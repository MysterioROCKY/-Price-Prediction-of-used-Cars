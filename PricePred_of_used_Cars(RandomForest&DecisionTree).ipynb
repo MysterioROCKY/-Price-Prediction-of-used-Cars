{
 "cells": [
  {
   "cell_type": "markdown",
   "metadata": {},
   "source": [
    "# Problem Statement : Predict  the selling price of used car for year 2021 given the dataset"
   ]
  },
  {
   "cell_type": "markdown",
   "metadata": {
    "id": "ZfyL9RpS26n4"
   },
   "source": [
    "# Steps\n",
    "\n",
    "1. Import libraries\n",
    "2. Import the dataset\n",
    "3. Perform Data Analysis & EDA\n",
    "4. Spliting the data\n",
    "5. [Optional] Data Preprocessing - Feature Scaling,...\n",
    "6. Choosing a model - Decision Tree Regressor\n",
    "7. Training the model\n",
    "8. Testing the model\n",
    "9. Checking the performance of the model"
   ]
  },
  {
   "cell_type": "markdown",
   "metadata": {
    "id": "GZCpUzG43wjD"
   },
   "source": [
    "# Importing the libraries"
   ]
  },
  {
   "cell_type": "code",
   "execution_count": 1,
   "metadata": {
    "executionInfo": {
     "elapsed": 9,
     "status": "ok",
     "timestamp": 1630156187348,
     "user": {
      "displayName": "Sahil Rahman",
      "photoUrl": "https://lh3.googleusercontent.com/a-/AOh14GiJ8lzvw0EAvZyy3OveF6J53a3ecWuQmgHRsF6n6D4=s64",
      "userId": "17212050139887820689"
     },
     "user_tz": -330
    },
    "id": "mW3WC3D42hRd"
   },
   "outputs": [],
   "source": [
    "import numpy as np\n",
    "import pandas as pd\n",
    "import matplotlib.pyplot as plt\n",
    "import seaborn as sns\n",
    "import re\n",
    "from sklearn.model_selection import train_test_split\n",
    "from sklearn.tree import DecisionTreeRegressor\n",
    "from sklearn.preprocessing import StandardScaler\n",
    "from sklearn.metrics import r2_score, mean_squared_error, mean_absolute_error"
   ]
  },
  {
   "cell_type": "markdown",
   "metadata": {
    "id": "tMb3mITs4Zu_"
   },
   "source": [
    "# Importing the dataset\n",
    "\n",
    "Link: https://raw.githubusercontent.com/sahilrahman12/Price_prediction_of_used_Cars_-Predictive_Analysis-/master/car_data.csv"
   ]
  },
  {
   "cell_type": "code",
   "execution_count": 63,
   "metadata": {
    "executionInfo": {
     "elapsed": 1341,
     "status": "ok",
     "timestamp": 1630161222973,
     "user": {
      "displayName": "Sahil Rahman",
      "photoUrl": "https://lh3.googleusercontent.com/a-/AOh14GiJ8lzvw0EAvZyy3OveF6J53a3ecWuQmgHRsF6n6D4=s64",
      "userId": "17212050139887820689"
     },
     "user_tz": -330
    },
    "id": "U2-Ss6h82jjK"
   },
   "outputs": [],
   "source": [
    "df = pd.read_csv('https://raw.githubusercontent.com/sahilrahman12/Price_prediction_of_used_Cars_-Predictive_Analysis-/master/car_data.csv')"
   ]
  },
  {
   "cell_type": "markdown",
   "metadata": {
    "id": "lIamGfne5ogr"
   },
   "source": [
    "# Data Analysis & EDA"
   ]
  },
  {
   "cell_type": "code",
   "execution_count": 3,
   "metadata": {
    "colab": {
     "base_uri": "https://localhost:8080/",
     "height": 205
    },
    "executionInfo": {
     "elapsed": 690,
     "status": "ok",
     "timestamp": 1630156242709,
     "user": {
      "displayName": "Sahil Rahman",
      "photoUrl": "https://lh3.googleusercontent.com/a-/AOh14GiJ8lzvw0EAvZyy3OveF6J53a3ecWuQmgHRsF6n6D4=s64",
      "userId": "17212050139887820689"
     },
     "user_tz": -330
    },
    "id": "aaglTfV22jla",
    "outputId": "dcbbf71c-ed21-4248-c3e7-74805729dad9"
   },
   "outputs": [
    {
     "data": {
      "text/html": [
       "<div>\n",
       "<style scoped>\n",
       "    .dataframe tbody tr th:only-of-type {\n",
       "        vertical-align: middle;\n",
       "    }\n",
       "\n",
       "    .dataframe tbody tr th {\n",
       "        vertical-align: top;\n",
       "    }\n",
       "\n",
       "    .dataframe thead th {\n",
       "        text-align: right;\n",
       "    }\n",
       "</style>\n",
       "<table border=\"1\" class=\"dataframe\">\n",
       "  <thead>\n",
       "    <tr style=\"text-align: right;\">\n",
       "      <th></th>\n",
       "      <th>name</th>\n",
       "      <th>year</th>\n",
       "      <th>selling_price</th>\n",
       "      <th>km_driven</th>\n",
       "      <th>fuel</th>\n",
       "      <th>seller_type</th>\n",
       "      <th>transmission</th>\n",
       "      <th>owner</th>\n",
       "    </tr>\n",
       "  </thead>\n",
       "  <tbody>\n",
       "    <tr>\n",
       "      <th>0</th>\n",
       "      <td>Maruti 800 AC</td>\n",
       "      <td>2007</td>\n",
       "      <td>60000</td>\n",
       "      <td>70000</td>\n",
       "      <td>Petrol</td>\n",
       "      <td>Individual</td>\n",
       "      <td>Manual</td>\n",
       "      <td>First Owner</td>\n",
       "    </tr>\n",
       "    <tr>\n",
       "      <th>1</th>\n",
       "      <td>Maruti Wagon R LXI Minor</td>\n",
       "      <td>2007</td>\n",
       "      <td>135000</td>\n",
       "      <td>50000</td>\n",
       "      <td>Petrol</td>\n",
       "      <td>Individual</td>\n",
       "      <td>Manual</td>\n",
       "      <td>First Owner</td>\n",
       "    </tr>\n",
       "    <tr>\n",
       "      <th>2</th>\n",
       "      <td>Hyundai Verna 1.6 SX</td>\n",
       "      <td>2012</td>\n",
       "      <td>600000</td>\n",
       "      <td>100000</td>\n",
       "      <td>Diesel</td>\n",
       "      <td>Individual</td>\n",
       "      <td>Manual</td>\n",
       "      <td>First Owner</td>\n",
       "    </tr>\n",
       "    <tr>\n",
       "      <th>3</th>\n",
       "      <td>Datsun RediGO T Option</td>\n",
       "      <td>2017</td>\n",
       "      <td>250000</td>\n",
       "      <td>46000</td>\n",
       "      <td>Petrol</td>\n",
       "      <td>Individual</td>\n",
       "      <td>Manual</td>\n",
       "      <td>First Owner</td>\n",
       "    </tr>\n",
       "    <tr>\n",
       "      <th>4</th>\n",
       "      <td>Honda Amaze VX i-DTEC</td>\n",
       "      <td>2014</td>\n",
       "      <td>450000</td>\n",
       "      <td>141000</td>\n",
       "      <td>Diesel</td>\n",
       "      <td>Individual</td>\n",
       "      <td>Manual</td>\n",
       "      <td>Second Owner</td>\n",
       "    </tr>\n",
       "  </tbody>\n",
       "</table>\n",
       "</div>"
      ],
      "text/plain": [
       "                       name  year  ...  transmission         owner\n",
       "0             Maruti 800 AC  2007  ...        Manual   First Owner\n",
       "1  Maruti Wagon R LXI Minor  2007  ...        Manual   First Owner\n",
       "2      Hyundai Verna 1.6 SX  2012  ...        Manual   First Owner\n",
       "3    Datsun RediGO T Option  2017  ...        Manual   First Owner\n",
       "4     Honda Amaze VX i-DTEC  2014  ...        Manual  Second Owner\n",
       "\n",
       "[5 rows x 8 columns]"
      ]
     },
     "execution_count": 3,
     "metadata": {},
     "output_type": "execute_result"
    }
   ],
   "source": [
    "df.head()"
   ]
  },
  {
   "cell_type": "code",
   "execution_count": 4,
   "metadata": {
    "colab": {
     "base_uri": "https://localhost:8080/",
     "height": 273
    },
    "executionInfo": {
     "elapsed": 535,
     "status": "ok",
     "timestamp": 1630156567322,
     "user": {
      "displayName": "Sahil Rahman",
      "photoUrl": "https://lh3.googleusercontent.com/a-/AOh14GiJ8lzvw0EAvZyy3OveF6J53a3ecWuQmgHRsF6n6D4=s64",
      "userId": "17212050139887820689"
     },
     "user_tz": -330
    },
    "id": "a8D8t7bn2jn2",
    "outputId": "d46b249b-cceb-4e53-d7c8-7f33e9ebdde1"
   },
   "outputs": [
    {
     "data": {
      "text/html": [
       "<div>\n",
       "<style scoped>\n",
       "    .dataframe tbody tr th:only-of-type {\n",
       "        vertical-align: middle;\n",
       "    }\n",
       "\n",
       "    .dataframe tbody tr th {\n",
       "        vertical-align: top;\n",
       "    }\n",
       "\n",
       "    .dataframe thead th {\n",
       "        text-align: right;\n",
       "    }\n",
       "</style>\n",
       "<table border=\"1\" class=\"dataframe\">\n",
       "  <thead>\n",
       "    <tr style=\"text-align: right;\">\n",
       "      <th></th>\n",
       "      <th>name</th>\n",
       "      <th>year</th>\n",
       "      <th>selling_price</th>\n",
       "      <th>km_driven</th>\n",
       "      <th>fuel</th>\n",
       "      <th>seller_type</th>\n",
       "      <th>transmission</th>\n",
       "      <th>owner</th>\n",
       "    </tr>\n",
       "  </thead>\n",
       "  <tbody>\n",
       "    <tr>\n",
       "      <th>4335</th>\n",
       "      <td>Hyundai i20 Magna 1.4 CRDi (Diesel)</td>\n",
       "      <td>2014</td>\n",
       "      <td>409999</td>\n",
       "      <td>80000</td>\n",
       "      <td>Diesel</td>\n",
       "      <td>Individual</td>\n",
       "      <td>Manual</td>\n",
       "      <td>Second Owner</td>\n",
       "    </tr>\n",
       "    <tr>\n",
       "      <th>4336</th>\n",
       "      <td>Hyundai i20 Magna 1.4 CRDi</td>\n",
       "      <td>2014</td>\n",
       "      <td>409999</td>\n",
       "      <td>80000</td>\n",
       "      <td>Diesel</td>\n",
       "      <td>Individual</td>\n",
       "      <td>Manual</td>\n",
       "      <td>Second Owner</td>\n",
       "    </tr>\n",
       "    <tr>\n",
       "      <th>4337</th>\n",
       "      <td>Maruti 800 AC BSIII</td>\n",
       "      <td>2009</td>\n",
       "      <td>110000</td>\n",
       "      <td>83000</td>\n",
       "      <td>Petrol</td>\n",
       "      <td>Individual</td>\n",
       "      <td>Manual</td>\n",
       "      <td>Second Owner</td>\n",
       "    </tr>\n",
       "    <tr>\n",
       "      <th>4338</th>\n",
       "      <td>Hyundai Creta 1.6 CRDi SX Option</td>\n",
       "      <td>2016</td>\n",
       "      <td>865000</td>\n",
       "      <td>90000</td>\n",
       "      <td>Diesel</td>\n",
       "      <td>Individual</td>\n",
       "      <td>Manual</td>\n",
       "      <td>First Owner</td>\n",
       "    </tr>\n",
       "    <tr>\n",
       "      <th>4339</th>\n",
       "      <td>Renault KWID RXT</td>\n",
       "      <td>2016</td>\n",
       "      <td>225000</td>\n",
       "      <td>40000</td>\n",
       "      <td>Petrol</td>\n",
       "      <td>Individual</td>\n",
       "      <td>Manual</td>\n",
       "      <td>First Owner</td>\n",
       "    </tr>\n",
       "  </tbody>\n",
       "</table>\n",
       "</div>"
      ],
      "text/plain": [
       "                                     name  year  ...  transmission         owner\n",
       "4335  Hyundai i20 Magna 1.4 CRDi (Diesel)  2014  ...        Manual  Second Owner\n",
       "4336           Hyundai i20 Magna 1.4 CRDi  2014  ...        Manual  Second Owner\n",
       "4337                  Maruti 800 AC BSIII  2009  ...        Manual  Second Owner\n",
       "4338     Hyundai Creta 1.6 CRDi SX Option  2016  ...        Manual   First Owner\n",
       "4339                     Renault KWID RXT  2016  ...        Manual   First Owner\n",
       "\n",
       "[5 rows x 8 columns]"
      ]
     },
     "execution_count": 4,
     "metadata": {},
     "output_type": "execute_result"
    }
   ],
   "source": [
    "df.tail()"
   ]
  },
  {
   "cell_type": "code",
   "execution_count": 5,
   "metadata": {
    "colab": {
     "base_uri": "https://localhost:8080/"
    },
    "executionInfo": {
     "elapsed": 564,
     "status": "ok",
     "timestamp": 1630156600700,
     "user": {
      "displayName": "Sahil Rahman",
      "photoUrl": "https://lh3.googleusercontent.com/a-/AOh14GiJ8lzvw0EAvZyy3OveF6J53a3ecWuQmgHRsF6n6D4=s64",
      "userId": "17212050139887820689"
     },
     "user_tz": -330
    },
    "id": "vjAjH8Cf2jqH",
    "outputId": "dd3e7275-2f2d-4ff2-846e-bdf8601ea36f"
   },
   "outputs": [
    {
     "data": {
      "text/plain": [
       "2"
      ]
     },
     "execution_count": 5,
     "metadata": {},
     "output_type": "execute_result"
    }
   ],
   "source": [
    "df.ndim"
   ]
  },
  {
   "cell_type": "code",
   "execution_count": 7,
   "metadata": {
    "colab": {
     "base_uri": "https://localhost:8080/"
    },
    "executionInfo": {
     "elapsed": 522,
     "status": "ok",
     "timestamp": 1630156620557,
     "user": {
      "displayName": "Sahil Rahman",
      "photoUrl": "https://lh3.googleusercontent.com/a-/AOh14GiJ8lzvw0EAvZyy3OveF6J53a3ecWuQmgHRsF6n6D4=s64",
      "userId": "17212050139887820689"
     },
     "user_tz": -330
    },
    "id": "r64Sw4Aq2jvU",
    "outputId": "31588094-a712-4755-dce8-a4577b2f8a54"
   },
   "outputs": [
    {
     "data": {
      "text/plain": [
       "(4340, 8)"
      ]
     },
     "execution_count": 7,
     "metadata": {},
     "output_type": "execute_result"
    }
   ],
   "source": [
    "df.shape"
   ]
  },
  {
   "cell_type": "code",
   "execution_count": 8,
   "metadata": {
    "colab": {
     "base_uri": "https://localhost:8080/"
    },
    "executionInfo": {
     "elapsed": 537,
     "status": "ok",
     "timestamp": 1630156647963,
     "user": {
      "displayName": "Sahil Rahman",
      "photoUrl": "https://lh3.googleusercontent.com/a-/AOh14GiJ8lzvw0EAvZyy3OveF6J53a3ecWuQmgHRsF6n6D4=s64",
      "userId": "17212050139887820689"
     },
     "user_tz": -330
    },
    "id": "eB2ui5z12jxx",
    "outputId": "b01a4b40-7019-45f3-a586-8a4a12e3901e"
   },
   "outputs": [
    {
     "data": {
      "text/plain": [
       "Index(['name', 'year', 'selling_price', 'km_driven', 'fuel', 'seller_type',\n",
       "       'transmission', 'owner'],\n",
       "      dtype='object')"
      ]
     },
     "execution_count": 8,
     "metadata": {},
     "output_type": "execute_result"
    }
   ],
   "source": [
    "df.columns"
   ]
  },
  {
   "cell_type": "code",
   "execution_count": 9,
   "metadata": {
    "colab": {
     "base_uri": "https://localhost:8080/",
     "height": 298
    },
    "executionInfo": {
     "elapsed": 767,
     "status": "ok",
     "timestamp": 1630156741975,
     "user": {
      "displayName": "Sahil Rahman",
      "photoUrl": "https://lh3.googleusercontent.com/a-/AOh14GiJ8lzvw0EAvZyy3OveF6J53a3ecWuQmgHRsF6n6D4=s64",
      "userId": "17212050139887820689"
     },
     "user_tz": -330
    },
    "id": "P-BxH6MO2j2p",
    "outputId": "e502cf83-90bb-4a5f-edaf-0bf12eae92b1"
   },
   "outputs": [
    {
     "data": {
      "text/html": [
       "<div>\n",
       "<style scoped>\n",
       "    .dataframe tbody tr th:only-of-type {\n",
       "        vertical-align: middle;\n",
       "    }\n",
       "\n",
       "    .dataframe tbody tr th {\n",
       "        vertical-align: top;\n",
       "    }\n",
       "\n",
       "    .dataframe thead th {\n",
       "        text-align: right;\n",
       "    }\n",
       "</style>\n",
       "<table border=\"1\" class=\"dataframe\">\n",
       "  <thead>\n",
       "    <tr style=\"text-align: right;\">\n",
       "      <th></th>\n",
       "      <th>year</th>\n",
       "      <th>selling_price</th>\n",
       "      <th>km_driven</th>\n",
       "    </tr>\n",
       "  </thead>\n",
       "  <tbody>\n",
       "    <tr>\n",
       "      <th>count</th>\n",
       "      <td>4340.000000</td>\n",
       "      <td>4.340000e+03</td>\n",
       "      <td>4340.000000</td>\n",
       "    </tr>\n",
       "    <tr>\n",
       "      <th>mean</th>\n",
       "      <td>2013.090783</td>\n",
       "      <td>5.041273e+05</td>\n",
       "      <td>66215.777419</td>\n",
       "    </tr>\n",
       "    <tr>\n",
       "      <th>std</th>\n",
       "      <td>4.215344</td>\n",
       "      <td>5.785487e+05</td>\n",
       "      <td>46644.102194</td>\n",
       "    </tr>\n",
       "    <tr>\n",
       "      <th>min</th>\n",
       "      <td>1992.000000</td>\n",
       "      <td>2.000000e+04</td>\n",
       "      <td>1.000000</td>\n",
       "    </tr>\n",
       "    <tr>\n",
       "      <th>25%</th>\n",
       "      <td>2011.000000</td>\n",
       "      <td>2.087498e+05</td>\n",
       "      <td>35000.000000</td>\n",
       "    </tr>\n",
       "    <tr>\n",
       "      <th>50%</th>\n",
       "      <td>2014.000000</td>\n",
       "      <td>3.500000e+05</td>\n",
       "      <td>60000.000000</td>\n",
       "    </tr>\n",
       "    <tr>\n",
       "      <th>75%</th>\n",
       "      <td>2016.000000</td>\n",
       "      <td>6.000000e+05</td>\n",
       "      <td>90000.000000</td>\n",
       "    </tr>\n",
       "    <tr>\n",
       "      <th>max</th>\n",
       "      <td>2020.000000</td>\n",
       "      <td>8.900000e+06</td>\n",
       "      <td>806599.000000</td>\n",
       "    </tr>\n",
       "  </tbody>\n",
       "</table>\n",
       "</div>"
      ],
      "text/plain": [
       "              year  selling_price      km_driven\n",
       "count  4340.000000   4.340000e+03    4340.000000\n",
       "mean   2013.090783   5.041273e+05   66215.777419\n",
       "std       4.215344   5.785487e+05   46644.102194\n",
       "min    1992.000000   2.000000e+04       1.000000\n",
       "25%    2011.000000   2.087498e+05   35000.000000\n",
       "50%    2014.000000   3.500000e+05   60000.000000\n",
       "75%    2016.000000   6.000000e+05   90000.000000\n",
       "max    2020.000000   8.900000e+06  806599.000000"
      ]
     },
     "execution_count": 9,
     "metadata": {},
     "output_type": "execute_result"
    }
   ],
   "source": [
    "df.describe()"
   ]
  },
  {
   "cell_type": "code",
   "execution_count": 10,
   "metadata": {
    "colab": {
     "base_uri": "https://localhost:8080/"
    },
    "executionInfo": {
     "elapsed": 526,
     "status": "ok",
     "timestamp": 1630156852148,
     "user": {
      "displayName": "Sahil Rahman",
      "photoUrl": "https://lh3.googleusercontent.com/a-/AOh14GiJ8lzvw0EAvZyy3OveF6J53a3ecWuQmgHRsF6n6D4=s64",
      "userId": "17212050139887820689"
     },
     "user_tz": -330
    },
    "id": "Qp1NrXRu2j5G",
    "outputId": "e8c4190e-7605-462f-b43b-baa449007309"
   },
   "outputs": [
    {
     "name": "stdout",
     "output_type": "stream",
     "text": [
      "<class 'pandas.core.frame.DataFrame'>\n",
      "RangeIndex: 4340 entries, 0 to 4339\n",
      "Data columns (total 8 columns):\n",
      " #   Column         Non-Null Count  Dtype \n",
      "---  ------         --------------  ----- \n",
      " 0   name           4340 non-null   object\n",
      " 1   year           4340 non-null   int64 \n",
      " 2   selling_price  4340 non-null   int64 \n",
      " 3   km_driven      4340 non-null   int64 \n",
      " 4   fuel           4340 non-null   object\n",
      " 5   seller_type    4340 non-null   object\n",
      " 6   transmission   4340 non-null   object\n",
      " 7   owner          4340 non-null   object\n",
      "dtypes: int64(3), object(5)\n",
      "memory usage: 271.4+ KB\n"
     ]
    }
   ],
   "source": [
    "df.info()"
   ]
  },
  {
   "cell_type": "code",
   "execution_count": 11,
   "metadata": {
    "colab": {
     "base_uri": "https://localhost:8080/",
     "height": 205
    },
    "executionInfo": {
     "elapsed": 529,
     "status": "ok",
     "timestamp": 1630156880223,
     "user": {
      "displayName": "Sahil Rahman",
      "photoUrl": "https://lh3.googleusercontent.com/a-/AOh14GiJ8lzvw0EAvZyy3OveF6J53a3ecWuQmgHRsF6n6D4=s64",
      "userId": "17212050139887820689"
     },
     "user_tz": -330
    },
    "id": "GVobtjeK2j-d",
    "outputId": "4b9f4bcd-fc15-4565-c8c7-ba2b574d14e7"
   },
   "outputs": [
    {
     "data": {
      "text/html": [
       "<div>\n",
       "<style scoped>\n",
       "    .dataframe tbody tr th:only-of-type {\n",
       "        vertical-align: middle;\n",
       "    }\n",
       "\n",
       "    .dataframe tbody tr th {\n",
       "        vertical-align: top;\n",
       "    }\n",
       "\n",
       "    .dataframe thead th {\n",
       "        text-align: right;\n",
       "    }\n",
       "</style>\n",
       "<table border=\"1\" class=\"dataframe\">\n",
       "  <thead>\n",
       "    <tr style=\"text-align: right;\">\n",
       "      <th></th>\n",
       "      <th>name</th>\n",
       "      <th>year</th>\n",
       "      <th>selling_price</th>\n",
       "      <th>km_driven</th>\n",
       "      <th>fuel</th>\n",
       "      <th>seller_type</th>\n",
       "      <th>transmission</th>\n",
       "      <th>owner</th>\n",
       "    </tr>\n",
       "  </thead>\n",
       "  <tbody>\n",
       "    <tr>\n",
       "      <th>0</th>\n",
       "      <td>Maruti 800 AC</td>\n",
       "      <td>2007</td>\n",
       "      <td>60000</td>\n",
       "      <td>70000</td>\n",
       "      <td>Petrol</td>\n",
       "      <td>Individual</td>\n",
       "      <td>Manual</td>\n",
       "      <td>First Owner</td>\n",
       "    </tr>\n",
       "    <tr>\n",
       "      <th>1</th>\n",
       "      <td>Maruti Wagon R LXI Minor</td>\n",
       "      <td>2007</td>\n",
       "      <td>135000</td>\n",
       "      <td>50000</td>\n",
       "      <td>Petrol</td>\n",
       "      <td>Individual</td>\n",
       "      <td>Manual</td>\n",
       "      <td>First Owner</td>\n",
       "    </tr>\n",
       "    <tr>\n",
       "      <th>2</th>\n",
       "      <td>Hyundai Verna 1.6 SX</td>\n",
       "      <td>2012</td>\n",
       "      <td>600000</td>\n",
       "      <td>100000</td>\n",
       "      <td>Diesel</td>\n",
       "      <td>Individual</td>\n",
       "      <td>Manual</td>\n",
       "      <td>First Owner</td>\n",
       "    </tr>\n",
       "    <tr>\n",
       "      <th>3</th>\n",
       "      <td>Datsun RediGO T Option</td>\n",
       "      <td>2017</td>\n",
       "      <td>250000</td>\n",
       "      <td>46000</td>\n",
       "      <td>Petrol</td>\n",
       "      <td>Individual</td>\n",
       "      <td>Manual</td>\n",
       "      <td>First Owner</td>\n",
       "    </tr>\n",
       "    <tr>\n",
       "      <th>4</th>\n",
       "      <td>Honda Amaze VX i-DTEC</td>\n",
       "      <td>2014</td>\n",
       "      <td>450000</td>\n",
       "      <td>141000</td>\n",
       "      <td>Diesel</td>\n",
       "      <td>Individual</td>\n",
       "      <td>Manual</td>\n",
       "      <td>Second Owner</td>\n",
       "    </tr>\n",
       "  </tbody>\n",
       "</table>\n",
       "</div>"
      ],
      "text/plain": [
       "                       name  year  ...  transmission         owner\n",
       "0             Maruti 800 AC  2007  ...        Manual   First Owner\n",
       "1  Maruti Wagon R LXI Minor  2007  ...        Manual   First Owner\n",
       "2      Hyundai Verna 1.6 SX  2012  ...        Manual   First Owner\n",
       "3    Datsun RediGO T Option  2017  ...        Manual   First Owner\n",
       "4     Honda Amaze VX i-DTEC  2014  ...        Manual  Second Owner\n",
       "\n",
       "[5 rows x 8 columns]"
      ]
     },
     "execution_count": 11,
     "metadata": {},
     "output_type": "execute_result"
    }
   ],
   "source": [
    "df.head()"
   ]
  },
  {
   "cell_type": "code",
   "execution_count": 12,
   "metadata": {
    "colab": {
     "base_uri": "https://localhost:8080/"
    },
    "executionInfo": {
     "elapsed": 534,
     "status": "ok",
     "timestamp": 1630156934670,
     "user": {
      "displayName": "Sahil Rahman",
      "photoUrl": "https://lh3.googleusercontent.com/a-/AOh14GiJ8lzvw0EAvZyy3OveF6J53a3ecWuQmgHRsF6n6D4=s64",
      "userId": "17212050139887820689"
     },
     "user_tz": -330
    },
    "id": "6uX1VJ482kDu",
    "outputId": "24573522-5de4-4bf9-ef67-a835c8970088"
   },
   "outputs": [
    {
     "data": {
      "text/plain": [
       "array(['Petrol', 'Diesel', 'CNG', 'LPG', 'Electric'], dtype=object)"
      ]
     },
     "execution_count": 12,
     "metadata": {},
     "output_type": "execute_result"
    }
   ],
   "source": [
    "df.fuel.unique()"
   ]
  },
  {
   "cell_type": "code",
   "execution_count": 13,
   "metadata": {
    "colab": {
     "base_uri": "https://localhost:8080/"
    },
    "executionInfo": {
     "elapsed": 564,
     "status": "ok",
     "timestamp": 1630156964037,
     "user": {
      "displayName": "Sahil Rahman",
      "photoUrl": "https://lh3.googleusercontent.com/a-/AOh14GiJ8lzvw0EAvZyy3OveF6J53a3ecWuQmgHRsF6n6D4=s64",
      "userId": "17212050139887820689"
     },
     "user_tz": -330
    },
    "id": "gpkNaPBL2kGm",
    "outputId": "4e27933b-db66-4fea-b104-1dc2564e0cc5"
   },
   "outputs": [
    {
     "data": {
      "text/plain": [
       "array(['Individual', 'Dealer', 'Trustmark Dealer'], dtype=object)"
      ]
     },
     "execution_count": 13,
     "metadata": {},
     "output_type": "execute_result"
    }
   ],
   "source": [
    "df.seller_type.unique()"
   ]
  },
  {
   "cell_type": "code",
   "execution_count": 14,
   "metadata": {
    "colab": {
     "base_uri": "https://localhost:8080/"
    },
    "executionInfo": {
     "elapsed": 574,
     "status": "ok",
     "timestamp": 1630156988796,
     "user": {
      "displayName": "Sahil Rahman",
      "photoUrl": "https://lh3.googleusercontent.com/a-/AOh14GiJ8lzvw0EAvZyy3OveF6J53a3ecWuQmgHRsF6n6D4=s64",
      "userId": "17212050139887820689"
     },
     "user_tz": -330
    },
    "id": "euzEYJsE2kI-",
    "outputId": "330b7cb9-3eae-4570-ebed-d43b1470c1e5"
   },
   "outputs": [
    {
     "data": {
      "text/plain": [
       "array(['Manual', 'Automatic'], dtype=object)"
      ]
     },
     "execution_count": 14,
     "metadata": {},
     "output_type": "execute_result"
    }
   ],
   "source": [
    "df.transmission.unique()"
   ]
  },
  {
   "cell_type": "code",
   "execution_count": 15,
   "metadata": {
    "colab": {
     "base_uri": "https://localhost:8080/"
    },
    "executionInfo": {
     "elapsed": 534,
     "status": "ok",
     "timestamp": 1630157004118,
     "user": {
      "displayName": "Sahil Rahman",
      "photoUrl": "https://lh3.googleusercontent.com/a-/AOh14GiJ8lzvw0EAvZyy3OveF6J53a3ecWuQmgHRsF6n6D4=s64",
      "userId": "17212050139887820689"
     },
     "user_tz": -330
    },
    "id": "CE2qLxju2kMC",
    "outputId": "6609094b-7be1-4e58-f816-1eedfe71c955"
   },
   "outputs": [
    {
     "data": {
      "text/plain": [
       "array(['First Owner', 'Second Owner', 'Fourth & Above Owner',\n",
       "       'Third Owner', 'Test Drive Car'], dtype=object)"
      ]
     },
     "execution_count": 15,
     "metadata": {},
     "output_type": "execute_result"
    }
   ],
   "source": [
    "df.owner.unique()"
   ]
  },
  {
   "cell_type": "code",
   "execution_count": 23,
   "metadata": {
    "executionInfo": {
     "elapsed": 537,
     "status": "ok",
     "timestamp": 1630158843255,
     "user": {
      "displayName": "Sahil Rahman",
      "photoUrl": "https://lh3.googleusercontent.com/a-/AOh14GiJ8lzvw0EAvZyy3OveF6J53a3ecWuQmgHRsF6n6D4=s64",
      "userId": "17212050139887820689"
     },
     "user_tz": -330
    },
    "id": "-MNOy7tb2kO1"
   },
   "outputs": [],
   "source": [
    "# Create a column new_seller_type and place it at index of the seller_type column\n",
    "# Replace the values:\n",
    "# Individual - 0\n",
    "# Dealer - 1\n",
    "# Trustmark Dealer - 2\n",
    "\n",
    "x = df.seller_type.replace({\"Individual\":0,\"Dealer\":1,\"Trustmark Dealer\":2})\n",
    "df.insert(df.columns.get_loc(\"seller_type\"),'new_seller_type',x)"
   ]
  },
  {
   "cell_type": "code",
   "execution_count": 27,
   "metadata": {
    "executionInfo": {
     "elapsed": 535,
     "status": "ok",
     "timestamp": 1630158938635,
     "user": {
      "displayName": "Sahil Rahman",
      "photoUrl": "https://lh3.googleusercontent.com/a-/AOh14GiJ8lzvw0EAvZyy3OveF6J53a3ecWuQmgHRsF6n6D4=s64",
      "userId": "17212050139887820689"
     },
     "user_tz": -330
    },
    "id": "vXCSbhNm2kRV"
   },
   "outputs": [],
   "source": [
    "# Create a column new_fuel and place it at index of the fuel column\n",
    "# Replace the values:\n",
    "# Petrol - 0\n",
    "# Diesel - 1\n",
    "# CNG - 2\n",
    "# LPG - 3\n",
    "# Electric - 4\n",
    "x = df.fuel.replace({\"Petrol\":0,\"Diesel\":1,\"CNG\":2,\"LPG\":3,\"Electric\":4})\n",
    "df.insert(df.columns.get_loc('fuel'),'new_fuel',x)"
   ]
  },
  {
   "cell_type": "code",
   "execution_count": 65,
   "metadata": {
    "executionInfo": {
     "elapsed": 1594,
     "status": "ok",
     "timestamp": 1630161340848,
     "user": {
      "displayName": "Sahil Rahman",
      "photoUrl": "https://lh3.googleusercontent.com/a-/AOh14GiJ8lzvw0EAvZyy3OveF6J53a3ecWuQmgHRsF6n6D4=s64",
      "userId": "17212050139887820689"
     },
     "user_tz": -330
    },
    "id": "x8_yCVnb2kUE"
   },
   "outputs": [],
   "source": [
    "df['fuel'] = LabelEncoder().fit_transform(df['fuel'])\n",
    "df['seller_type'] = LabelEncoder().fit_transform(df['seller_type'])\n",
    "df['transmission'] = LabelEncoder().fit_transform(df['transmission'])\n",
    "df['owner'] = LabelEncoder().fit_transform(df['owner'])"
   ]
  },
  {
   "cell_type": "code",
   "execution_count": 66,
   "metadata": {
    "colab": {
     "base_uri": "https://localhost:8080/",
     "height": 205
    },
    "executionInfo": {
     "elapsed": 543,
     "status": "ok",
     "timestamp": 1630161347764,
     "user": {
      "displayName": "Sahil Rahman",
      "photoUrl": "https://lh3.googleusercontent.com/a-/AOh14GiJ8lzvw0EAvZyy3OveF6J53a3ecWuQmgHRsF6n6D4=s64",
      "userId": "17212050139887820689"
     },
     "user_tz": -330
    },
    "id": "z-QFRYQ1LCmp",
    "outputId": "87d1dc2a-d1a0-44ec-fe43-c89c07a21f7c"
   },
   "outputs": [
    {
     "data": {
      "text/html": [
       "<div>\n",
       "<style scoped>\n",
       "    .dataframe tbody tr th:only-of-type {\n",
       "        vertical-align: middle;\n",
       "    }\n",
       "\n",
       "    .dataframe tbody tr th {\n",
       "        vertical-align: top;\n",
       "    }\n",
       "\n",
       "    .dataframe thead th {\n",
       "        text-align: right;\n",
       "    }\n",
       "</style>\n",
       "<table border=\"1\" class=\"dataframe\">\n",
       "  <thead>\n",
       "    <tr style=\"text-align: right;\">\n",
       "      <th></th>\n",
       "      <th>name</th>\n",
       "      <th>year</th>\n",
       "      <th>selling_price</th>\n",
       "      <th>km_driven</th>\n",
       "      <th>fuel</th>\n",
       "      <th>seller_type</th>\n",
       "      <th>transmission</th>\n",
       "      <th>owner</th>\n",
       "    </tr>\n",
       "  </thead>\n",
       "  <tbody>\n",
       "    <tr>\n",
       "      <th>0</th>\n",
       "      <td>Maruti 800 AC</td>\n",
       "      <td>2007</td>\n",
       "      <td>60000</td>\n",
       "      <td>70000</td>\n",
       "      <td>4</td>\n",
       "      <td>1</td>\n",
       "      <td>1</td>\n",
       "      <td>0</td>\n",
       "    </tr>\n",
       "    <tr>\n",
       "      <th>1</th>\n",
       "      <td>Maruti Wagon R LXI Minor</td>\n",
       "      <td>2007</td>\n",
       "      <td>135000</td>\n",
       "      <td>50000</td>\n",
       "      <td>4</td>\n",
       "      <td>1</td>\n",
       "      <td>1</td>\n",
       "      <td>0</td>\n",
       "    </tr>\n",
       "    <tr>\n",
       "      <th>2</th>\n",
       "      <td>Hyundai Verna 1.6 SX</td>\n",
       "      <td>2012</td>\n",
       "      <td>600000</td>\n",
       "      <td>100000</td>\n",
       "      <td>1</td>\n",
       "      <td>1</td>\n",
       "      <td>1</td>\n",
       "      <td>0</td>\n",
       "    </tr>\n",
       "    <tr>\n",
       "      <th>3</th>\n",
       "      <td>Datsun RediGO T Option</td>\n",
       "      <td>2017</td>\n",
       "      <td>250000</td>\n",
       "      <td>46000</td>\n",
       "      <td>4</td>\n",
       "      <td>1</td>\n",
       "      <td>1</td>\n",
       "      <td>0</td>\n",
       "    </tr>\n",
       "    <tr>\n",
       "      <th>4</th>\n",
       "      <td>Honda Amaze VX i-DTEC</td>\n",
       "      <td>2014</td>\n",
       "      <td>450000</td>\n",
       "      <td>141000</td>\n",
       "      <td>1</td>\n",
       "      <td>1</td>\n",
       "      <td>1</td>\n",
       "      <td>2</td>\n",
       "    </tr>\n",
       "  </tbody>\n",
       "</table>\n",
       "</div>"
      ],
      "text/plain": [
       "                       name  year  ...  transmission  owner\n",
       "0             Maruti 800 AC  2007  ...             1      0\n",
       "1  Maruti Wagon R LXI Minor  2007  ...             1      0\n",
       "2      Hyundai Verna 1.6 SX  2012  ...             1      0\n",
       "3    Datsun RediGO T Option  2017  ...             1      0\n",
       "4     Honda Amaze VX i-DTEC  2014  ...             1      2\n",
       "\n",
       "[5 rows x 8 columns]"
      ]
     },
     "execution_count": 66,
     "metadata": {},
     "output_type": "execute_result"
    }
   ],
   "source": [
    "df.head()"
   ]
  },
  {
   "cell_type": "code",
   "execution_count": 67,
   "metadata": {
    "executionInfo": {
     "elapsed": 3,
     "status": "ok",
     "timestamp": 1630161918890,
     "user": {
      "displayName": "Sahil Rahman",
      "photoUrl": "https://lh3.googleusercontent.com/a-/AOh14GiJ8lzvw0EAvZyy3OveF6J53a3ecWuQmgHRsF6n6D4=s64",
      "userId": "17212050139887820689"
     },
     "user_tz": -330
    },
    "id": "Yc3DeQqsLCpp"
   },
   "outputs": [],
   "source": [
    "# Create a column no_of_years = current year - year\n",
    "df['current_year'] = 2021"
   ]
  },
  {
   "cell_type": "code",
   "execution_count": 69,
   "metadata": {
    "executionInfo": {
     "elapsed": 523,
     "status": "ok",
     "timestamp": 1630161961155,
     "user": {
      "displayName": "Sahil Rahman",
      "photoUrl": "https://lh3.googleusercontent.com/a-/AOh14GiJ8lzvw0EAvZyy3OveF6J53a3ecWuQmgHRsF6n6D4=s64",
      "userId": "17212050139887820689"
     },
     "user_tz": -330
    },
    "id": "nnAwpsx1LCuM"
   },
   "outputs": [],
   "source": [
    "df['no_of_years'] = df['current_year'] - df['year']"
   ]
  },
  {
   "cell_type": "code",
   "execution_count": 70,
   "metadata": {
    "colab": {
     "base_uri": "https://localhost:8080/",
     "height": 376
    },
    "executionInfo": {
     "elapsed": 534,
     "status": "ok",
     "timestamp": 1630161966954,
     "user": {
      "displayName": "Sahil Rahman",
      "photoUrl": "https://lh3.googleusercontent.com/a-/AOh14GiJ8lzvw0EAvZyy3OveF6J53a3ecWuQmgHRsF6n6D4=s64",
      "userId": "17212050139887820689"
     },
     "user_tz": -330
    },
    "id": "kE3f2uLULCwO",
    "outputId": "104d3a67-993c-485d-fd1d-6333fb12504b"
   },
   "outputs": [
    {
     "data": {
      "text/html": [
       "<div>\n",
       "<style scoped>\n",
       "    .dataframe tbody tr th:only-of-type {\n",
       "        vertical-align: middle;\n",
       "    }\n",
       "\n",
       "    .dataframe tbody tr th {\n",
       "        vertical-align: top;\n",
       "    }\n",
       "\n",
       "    .dataframe thead th {\n",
       "        text-align: right;\n",
       "    }\n",
       "</style>\n",
       "<table border=\"1\" class=\"dataframe\">\n",
       "  <thead>\n",
       "    <tr style=\"text-align: right;\">\n",
       "      <th></th>\n",
       "      <th>name</th>\n",
       "      <th>year</th>\n",
       "      <th>selling_price</th>\n",
       "      <th>km_driven</th>\n",
       "      <th>fuel</th>\n",
       "      <th>seller_type</th>\n",
       "      <th>transmission</th>\n",
       "      <th>owner</th>\n",
       "      <th>current_year</th>\n",
       "      <th>no_of_years</th>\n",
       "    </tr>\n",
       "  </thead>\n",
       "  <tbody>\n",
       "    <tr>\n",
       "      <th>0</th>\n",
       "      <td>Maruti 800 AC</td>\n",
       "      <td>2007</td>\n",
       "      <td>60000</td>\n",
       "      <td>70000</td>\n",
       "      <td>4</td>\n",
       "      <td>1</td>\n",
       "      <td>1</td>\n",
       "      <td>0</td>\n",
       "      <td>2021</td>\n",
       "      <td>14</td>\n",
       "    </tr>\n",
       "    <tr>\n",
       "      <th>1</th>\n",
       "      <td>Maruti Wagon R LXI Minor</td>\n",
       "      <td>2007</td>\n",
       "      <td>135000</td>\n",
       "      <td>50000</td>\n",
       "      <td>4</td>\n",
       "      <td>1</td>\n",
       "      <td>1</td>\n",
       "      <td>0</td>\n",
       "      <td>2021</td>\n",
       "      <td>14</td>\n",
       "    </tr>\n",
       "    <tr>\n",
       "      <th>2</th>\n",
       "      <td>Hyundai Verna 1.6 SX</td>\n",
       "      <td>2012</td>\n",
       "      <td>600000</td>\n",
       "      <td>100000</td>\n",
       "      <td>1</td>\n",
       "      <td>1</td>\n",
       "      <td>1</td>\n",
       "      <td>0</td>\n",
       "      <td>2021</td>\n",
       "      <td>9</td>\n",
       "    </tr>\n",
       "    <tr>\n",
       "      <th>3</th>\n",
       "      <td>Datsun RediGO T Option</td>\n",
       "      <td>2017</td>\n",
       "      <td>250000</td>\n",
       "      <td>46000</td>\n",
       "      <td>4</td>\n",
       "      <td>1</td>\n",
       "      <td>1</td>\n",
       "      <td>0</td>\n",
       "      <td>2021</td>\n",
       "      <td>4</td>\n",
       "    </tr>\n",
       "    <tr>\n",
       "      <th>4</th>\n",
       "      <td>Honda Amaze VX i-DTEC</td>\n",
       "      <td>2014</td>\n",
       "      <td>450000</td>\n",
       "      <td>141000</td>\n",
       "      <td>1</td>\n",
       "      <td>1</td>\n",
       "      <td>1</td>\n",
       "      <td>2</td>\n",
       "      <td>2021</td>\n",
       "      <td>7</td>\n",
       "    </tr>\n",
       "  </tbody>\n",
       "</table>\n",
       "</div>"
      ],
      "text/plain": [
       "                       name  year  ...  current_year  no_of_years\n",
       "0             Maruti 800 AC  2007  ...          2021           14\n",
       "1  Maruti Wagon R LXI Minor  2007  ...          2021           14\n",
       "2      Hyundai Verna 1.6 SX  2012  ...          2021            9\n",
       "3    Datsun RediGO T Option  2017  ...          2021            4\n",
       "4     Honda Amaze VX i-DTEC  2014  ...          2021            7\n",
       "\n",
       "[5 rows x 10 columns]"
      ]
     },
     "execution_count": 70,
     "metadata": {},
     "output_type": "execute_result"
    }
   ],
   "source": [
    "df.head()"
   ]
  },
  {
   "cell_type": "code",
   "execution_count": 73,
   "metadata": {
    "executionInfo": {
     "elapsed": 793,
     "status": "ok",
     "timestamp": 1630162396947,
     "user": {
      "displayName": "Sahil Rahman",
      "photoUrl": "https://lh3.googleusercontent.com/a-/AOh14GiJ8lzvw0EAvZyy3OveF6J53a3ecWuQmgHRsF6n6D4=s64",
      "userId": "17212050139887820689"
     },
     "user_tz": -330
    },
    "id": "D2eSOWrpLCyr"
   },
   "outputs": [],
   "source": [
    "# Drop columns - name, year, cureent_year\n",
    "# Rename selling_price to current_selling_price\n",
    "df.drop(['name','year','current_year'],axis=1,inplace=True)\n",
    "df.rename(columns={'selling_price':'current_selling_price'},inplace=True)"
   ]
  },
  {
   "cell_type": "code",
   "execution_count": 74,
   "metadata": {
    "colab": {
     "base_uri": "https://localhost:8080/",
     "height": 205
    },
    "executionInfo": {
     "elapsed": 522,
     "status": "ok",
     "timestamp": 1630162401516,
     "user": {
      "displayName": "Sahil Rahman",
      "photoUrl": "https://lh3.googleusercontent.com/a-/AOh14GiJ8lzvw0EAvZyy3OveF6J53a3ecWuQmgHRsF6n6D4=s64",
      "userId": "17212050139887820689"
     },
     "user_tz": -330
    },
    "id": "vlbu1uZsLC19",
    "outputId": "9b4d3160-79f4-449e-c276-1e3d5e7fa4f9"
   },
   "outputs": [
    {
     "data": {
      "text/html": [
       "<div>\n",
       "<style scoped>\n",
       "    .dataframe tbody tr th:only-of-type {\n",
       "        vertical-align: middle;\n",
       "    }\n",
       "\n",
       "    .dataframe tbody tr th {\n",
       "        vertical-align: top;\n",
       "    }\n",
       "\n",
       "    .dataframe thead th {\n",
       "        text-align: right;\n",
       "    }\n",
       "</style>\n",
       "<table border=\"1\" class=\"dataframe\">\n",
       "  <thead>\n",
       "    <tr style=\"text-align: right;\">\n",
       "      <th></th>\n",
       "      <th>current_selling_price</th>\n",
       "      <th>km_driven</th>\n",
       "      <th>fuel</th>\n",
       "      <th>seller_type</th>\n",
       "      <th>transmission</th>\n",
       "      <th>owner</th>\n",
       "      <th>no_of_years</th>\n",
       "    </tr>\n",
       "  </thead>\n",
       "  <tbody>\n",
       "    <tr>\n",
       "      <th>0</th>\n",
       "      <td>60000</td>\n",
       "      <td>70000</td>\n",
       "      <td>4</td>\n",
       "      <td>1</td>\n",
       "      <td>1</td>\n",
       "      <td>0</td>\n",
       "      <td>14</td>\n",
       "    </tr>\n",
       "    <tr>\n",
       "      <th>1</th>\n",
       "      <td>135000</td>\n",
       "      <td>50000</td>\n",
       "      <td>4</td>\n",
       "      <td>1</td>\n",
       "      <td>1</td>\n",
       "      <td>0</td>\n",
       "      <td>14</td>\n",
       "    </tr>\n",
       "    <tr>\n",
       "      <th>2</th>\n",
       "      <td>600000</td>\n",
       "      <td>100000</td>\n",
       "      <td>1</td>\n",
       "      <td>1</td>\n",
       "      <td>1</td>\n",
       "      <td>0</td>\n",
       "      <td>9</td>\n",
       "    </tr>\n",
       "    <tr>\n",
       "      <th>3</th>\n",
       "      <td>250000</td>\n",
       "      <td>46000</td>\n",
       "      <td>4</td>\n",
       "      <td>1</td>\n",
       "      <td>1</td>\n",
       "      <td>0</td>\n",
       "      <td>4</td>\n",
       "    </tr>\n",
       "    <tr>\n",
       "      <th>4</th>\n",
       "      <td>450000</td>\n",
       "      <td>141000</td>\n",
       "      <td>1</td>\n",
       "      <td>1</td>\n",
       "      <td>1</td>\n",
       "      <td>2</td>\n",
       "      <td>7</td>\n",
       "    </tr>\n",
       "  </tbody>\n",
       "</table>\n",
       "</div>"
      ],
      "text/plain": [
       "   current_selling_price  km_driven  fuel  ...  transmission  owner  no_of_years\n",
       "0                  60000      70000     4  ...             1      0           14\n",
       "1                 135000      50000     4  ...             1      0           14\n",
       "2                 600000     100000     1  ...             1      0            9\n",
       "3                 250000      46000     4  ...             1      0            4\n",
       "4                 450000     141000     1  ...             1      2            7\n",
       "\n",
       "[5 rows x 7 columns]"
      ]
     },
     "execution_count": 74,
     "metadata": {},
     "output_type": "execute_result"
    }
   ],
   "source": [
    "df.head()"
   ]
  },
  {
   "cell_type": "code",
   "execution_count": 75,
   "metadata": {
    "colab": {
     "base_uri": "https://localhost:8080/"
    },
    "executionInfo": {
     "elapsed": 515,
     "status": "ok",
     "timestamp": 1630162416066,
     "user": {
      "displayName": "Sahil Rahman",
      "photoUrl": "https://lh3.googleusercontent.com/a-/AOh14GiJ8lzvw0EAvZyy3OveF6J53a3ecWuQmgHRsF6n6D4=s64",
      "userId": "17212050139887820689"
     },
     "user_tz": -330
    },
    "id": "pOH_KgBhLC3x",
    "outputId": "613f293e-3e3f-4b0e-cf48-bf13f32232c6"
   },
   "outputs": [
    {
     "name": "stdout",
     "output_type": "stream",
     "text": [
      "<class 'pandas.core.frame.DataFrame'>\n",
      "RangeIndex: 4340 entries, 0 to 4339\n",
      "Data columns (total 7 columns):\n",
      " #   Column                 Non-Null Count  Dtype\n",
      "---  ------                 --------------  -----\n",
      " 0   current_selling_price  4340 non-null   int64\n",
      " 1   km_driven              4340 non-null   int64\n",
      " 2   fuel                   4340 non-null   int64\n",
      " 3   seller_type            4340 non-null   int64\n",
      " 4   transmission           4340 non-null   int64\n",
      " 5   owner                  4340 non-null   int64\n",
      " 6   no_of_years            4340 non-null   int64\n",
      "dtypes: int64(7)\n",
      "memory usage: 237.5 KB\n"
     ]
    }
   ],
   "source": [
    "df.info()"
   ]
  },
  {
   "cell_type": "code",
   "execution_count": 76,
   "metadata": {
    "colab": {
     "base_uri": "https://localhost:8080/",
     "height": 287
    },
    "executionInfo": {
     "elapsed": 586,
     "status": "ok",
     "timestamp": 1630162444220,
     "user": {
      "displayName": "Sahil Rahman",
      "photoUrl": "https://lh3.googleusercontent.com/a-/AOh14GiJ8lzvw0EAvZyy3OveF6J53a3ecWuQmgHRsF6n6D4=s64",
      "userId": "17212050139887820689"
     },
     "user_tz": -330
    },
    "id": "jCYbU8lNLC91",
    "outputId": "47141820-8ded-4d5c-bee6-65914c904841"
   },
   "outputs": [
    {
     "data": {
      "text/html": [
       "<div>\n",
       "<style scoped>\n",
       "    .dataframe tbody tr th:only-of-type {\n",
       "        vertical-align: middle;\n",
       "    }\n",
       "\n",
       "    .dataframe tbody tr th {\n",
       "        vertical-align: top;\n",
       "    }\n",
       "\n",
       "    .dataframe thead th {\n",
       "        text-align: right;\n",
       "    }\n",
       "</style>\n",
       "<table border=\"1\" class=\"dataframe\">\n",
       "  <thead>\n",
       "    <tr style=\"text-align: right;\">\n",
       "      <th></th>\n",
       "      <th>current_selling_price</th>\n",
       "      <th>km_driven</th>\n",
       "      <th>fuel</th>\n",
       "      <th>seller_type</th>\n",
       "      <th>transmission</th>\n",
       "      <th>owner</th>\n",
       "      <th>no_of_years</th>\n",
       "    </tr>\n",
       "  </thead>\n",
       "  <tbody>\n",
       "    <tr>\n",
       "      <th>current_selling_price</th>\n",
       "      <td>1.000000</td>\n",
       "      <td>-0.192289</td>\n",
       "      <td>-0.269653</td>\n",
       "      <td>-0.151554</td>\n",
       "      <td>-0.530205</td>\n",
       "      <td>-0.207840</td>\n",
       "      <td>-0.413922</td>\n",
       "    </tr>\n",
       "    <tr>\n",
       "      <th>km_driven</th>\n",
       "      <td>-0.192289</td>\n",
       "      <td>1.000000</td>\n",
       "      <td>-0.286095</td>\n",
       "      <td>0.113689</td>\n",
       "      <td>0.120226</td>\n",
       "      <td>0.297115</td>\n",
       "      <td>0.419688</td>\n",
       "    </tr>\n",
       "    <tr>\n",
       "      <th>fuel</th>\n",
       "      <td>-0.269653</td>\n",
       "      <td>-0.286095</td>\n",
       "      <td>1.000000</td>\n",
       "      <td>0.038797</td>\n",
       "      <td>0.039249</td>\n",
       "      <td>-0.010910</td>\n",
       "      <td>0.120002</td>\n",
       "    </tr>\n",
       "    <tr>\n",
       "      <th>seller_type</th>\n",
       "      <td>-0.151554</td>\n",
       "      <td>0.113689</td>\n",
       "      <td>0.038797</td>\n",
       "      <td>1.000000</td>\n",
       "      <td>0.174925</td>\n",
       "      <td>0.165681</td>\n",
       "      <td>0.098352</td>\n",
       "    </tr>\n",
       "    <tr>\n",
       "      <th>transmission</th>\n",
       "      <td>-0.530205</td>\n",
       "      <td>0.120226</td>\n",
       "      <td>0.039249</td>\n",
       "      <td>0.174925</td>\n",
       "      <td>1.000000</td>\n",
       "      <td>0.078893</td>\n",
       "      <td>0.143800</td>\n",
       "    </tr>\n",
       "    <tr>\n",
       "      <th>owner</th>\n",
       "      <td>-0.207840</td>\n",
       "      <td>0.297115</td>\n",
       "      <td>-0.010910</td>\n",
       "      <td>0.165681</td>\n",
       "      <td>0.078893</td>\n",
       "      <td>1.000000</td>\n",
       "      <td>0.414705</td>\n",
       "    </tr>\n",
       "    <tr>\n",
       "      <th>no_of_years</th>\n",
       "      <td>-0.413922</td>\n",
       "      <td>0.419688</td>\n",
       "      <td>0.120002</td>\n",
       "      <td>0.098352</td>\n",
       "      <td>0.143800</td>\n",
       "      <td>0.414705</td>\n",
       "      <td>1.000000</td>\n",
       "    </tr>\n",
       "  </tbody>\n",
       "</table>\n",
       "</div>"
      ],
      "text/plain": [
       "                       current_selling_price  km_driven  ...     owner  no_of_years\n",
       "current_selling_price               1.000000  -0.192289  ... -0.207840    -0.413922\n",
       "km_driven                          -0.192289   1.000000  ...  0.297115     0.419688\n",
       "fuel                               -0.269653  -0.286095  ... -0.010910     0.120002\n",
       "seller_type                        -0.151554   0.113689  ...  0.165681     0.098352\n",
       "transmission                       -0.530205   0.120226  ...  0.078893     0.143800\n",
       "owner                              -0.207840   0.297115  ...  1.000000     0.414705\n",
       "no_of_years                        -0.413922   0.419688  ...  0.414705     1.000000\n",
       "\n",
       "[7 rows x 7 columns]"
      ]
     },
     "execution_count": 76,
     "metadata": {},
     "output_type": "execute_result"
    }
   ],
   "source": [
    "df.corr()"
   ]
  },
  {
   "cell_type": "code",
   "execution_count": 77,
   "metadata": {
    "colab": {
     "base_uri": "https://localhost:8080/",
     "height": 380
    },
    "executionInfo": {
     "elapsed": 1806,
     "status": "ok",
     "timestamp": 1630162485659,
     "user": {
      "displayName": "Sahil Rahman",
      "photoUrl": "https://lh3.googleusercontent.com/a-/AOh14GiJ8lzvw0EAvZyy3OveF6J53a3ecWuQmgHRsF6n6D4=s64",
      "userId": "17212050139887820689"
     },
     "user_tz": -330
    },
    "id": "kVuFXn-gLDCe",
    "outputId": "54c545b0-ec3e-4a22-860f-dc2df944b912"
   },
   "outputs": [
    {
     "data": {
      "text/plain": [
       "<matplotlib.axes._subplots.AxesSubplot at 0x7f64b2d847d0>"
      ]
     },
     "execution_count": 77,
     "metadata": {},
     "output_type": "execute_result"
    },
    {
     "data": {
      "image/png": "[encoded data removed]",
      "text/plain": [
       "<Figure size 432x288 with 2 Axes>"
      ]
     },
     "metadata": {
      "needs_background": "light"
     },
     "output_type": "display_data"
    }
   ],
   "source": [
    "sns.heatmap(df.corr(), annot=True, cmap='Greens')"
   ]
  },
  {
   "cell_type": "code",
   "execution_count": 78,
   "metadata": {
    "colab": {
     "base_uri": "https://localhost:8080/",
     "height": 941
    },
    "executionInfo": {
     "elapsed": 25532,
     "status": "ok",
     "timestamp": 1630162614049,
     "user": {
      "displayName": "Sahil Rahman",
      "photoUrl": "https://lh3.googleusercontent.com/a-/AOh14GiJ8lzvw0EAvZyy3OveF6J53a3ecWuQmgHRsF6n6D4=s64",
      "userId": "17212050139887820689"
     },
     "user_tz": -330
    },
    "id": "bNdl6ELvLDF5",
    "outputId": "7d6f173c-037b-4680-999e-4d2a1181a674"
   },
   "outputs": [
    {
     "data": {
      "text/plain": [
       "<seaborn.axisgrid.PairGrid at 0x7f64b2d19650>"
      ]
     },
     "execution_count": 78,
     "metadata": {},
     "output_type": "execute_result"
    },
    {
     "data": {
      "image/png": "[encoded data removed]",
      "text/plain": [
       "<Figure size 1260x1260 with 56 Axes>"
      ]
     },
     "metadata": {
      "needs_background": "light"
     },
     "output_type": "display_data"
    }
   ],
   "source": [
    "sns.pairplot(df)"
   ]
  },
  {
   "cell_type": "code",
   "execution_count": 82,
   "metadata": {
    "colab": {
     "base_uri": "https://localhost:8080/",
     "height": 923
    },
    "executionInfo": {
     "elapsed": 1793,
     "status": "ok",
     "timestamp": 1630162723318,
     "user": {
      "displayName": "Sahil Rahman",
      "photoUrl": "https://lh3.googleusercontent.com/a-/AOh14GiJ8lzvw0EAvZyy3OveF6J53a3ecWuQmgHRsF6n6D4=s64",
      "userId": "17212050139887820689"
     },
     "user_tz": -330
    },
    "id": "yP1ujGNILDJd",
    "outputId": "469e863a-a552-44dd-f48f-9fc486bcbc8c"
   },
   "outputs": [
    {
     "data": {
      "text/plain": [
       "<matplotlib.axes._subplots.AxesSubplot at 0x7f64a54e3690>"
      ]
     },
     "execution_count": 82,
     "metadata": {},
     "output_type": "execute_result"
    },
    {
     "data": {
      "image/png": "[encoded data removed]",
      "text/plain": [
       "<Figure size 3600x3600 with 1 Axes>"
      ]
     },
     "metadata": {
      "needs_background": "light"
     },
     "output_type": "display_data"
    }
   ],
   "source": [
    "plt.figure(figsize=(50,50))\n",
    "df.boxplot()"
   ]
  },
  {
   "cell_type": "markdown",
   "metadata": {
    "id": "9de0xFA7RasD"
   },
   "source": [
    "# Select the features and targets"
   ]
  },
  {
   "cell_type": "code",
   "execution_count": 86,
   "metadata": {
    "executionInfo": {
     "elapsed": 531,
     "status": "ok",
     "timestamp": 1630162865709,
     "user": {
      "displayName": "Sahil Rahman",
      "photoUrl": "https://lh3.googleusercontent.com/a-/AOh14GiJ8lzvw0EAvZyy3OveF6J53a3ecWuQmgHRsF6n6D4=s64",
      "userId": "17212050139887820689"
     },
     "user_tz": -330
    },
    "id": "a0T4carxLDNg"
   },
   "outputs": [],
   "source": [
    "X = np.array(df.drop('current_selling_price',axis=1))\n",
    "y = np.array(df.current_selling_price)"
   ]
  },
  {
   "cell_type": "code",
   "execution_count": 89,
   "metadata": {
    "executionInfo": {
     "elapsed": 536,
     "status": "ok",
     "timestamp": 1630163106843,
     "user": {
      "displayName": "Sahil Rahman",
      "photoUrl": "https://lh3.googleusercontent.com/a-/AOh14GiJ8lzvw0EAvZyy3OveF6J53a3ecWuQmgHRsF6n6D4=s64",
      "userId": "17212050139887820689"
     },
     "user_tz": -330
    },
    "id": "8Nh5oUXaLDSH"
   },
   "outputs": [],
   "source": [
    "X_train, X_test, y_train, y_test = train_test_split(X,y,test_size=0.2)"
   ]
  },
  {
   "cell_type": "code",
   "execution_count": 91,
   "metadata": {
    "colab": {
     "base_uri": "https://localhost:8080/"
    },
    "executionInfo": {
     "elapsed": 525,
     "status": "ok",
     "timestamp": 1630163125321,
     "user": {
      "displayName": "Sahil Rahman",
      "photoUrl": "https://lh3.googleusercontent.com/a-/AOh14GiJ8lzvw0EAvZyy3OveF6J53a3ecWuQmgHRsF6n6D4=s64",
      "userId": "17212050139887820689"
     },
     "user_tz": -330
    },
    "id": "RAPjbk1BLDVd",
    "outputId": "e35b0b1e-2d04-48b2-bbf9-ca95c4b01fd6"
   },
   "outputs": [
    {
     "data": {
      "text/plain": [
       "3472"
      ]
     },
     "execution_count": 91,
     "metadata": {},
     "output_type": "execute_result"
    }
   ],
   "source": [
    "len(y_train)"
   ]
  },
  {
   "cell_type": "markdown",
   "metadata": {
    "id": "K2Ndi-ueS1AC"
   },
   "source": [
    "# Choosing the model"
   ]
  },
  {
   "cell_type": "code",
   "execution_count": 92,
   "metadata": {
    "executionInfo": {
     "elapsed": 560,
     "status": "ok",
     "timestamp": 1630163147685,
     "user": {
      "displayName": "Sahil Rahman",
      "photoUrl": "https://lh3.googleusercontent.com/a-/AOh14GiJ8lzvw0EAvZyy3OveF6J53a3ecWuQmgHRsF6n6D4=s64",
      "userId": "17212050139887820689"
     },
     "user_tz": -330
    },
    "id": "51mCVWDtLDXW"
   },
   "outputs": [],
   "source": [
    "regressor = DecisionTreeRegressor()"
   ]
  },
  {
   "cell_type": "markdown",
   "metadata": {
    "id": "l8zjRndWS6LI"
   },
   "source": [
    "# Training the model"
   ]
  },
  {
   "cell_type": "code",
   "execution_count": 93,
   "metadata": {
    "colab": {
     "base_uri": "https://localhost:8080/"
    },
    "executionInfo": {
     "elapsed": 619,
     "status": "ok",
     "timestamp": 1630163175856,
     "user": {
      "displayName": "Sahil Rahman",
      "photoUrl": "https://lh3.googleusercontent.com/a-/AOh14GiJ8lzvw0EAvZyy3OveF6J53a3ecWuQmgHRsF6n6D4=s64",
      "userId": "17212050139887820689"
     },
     "user_tz": -330
    },
    "id": "isSuEhEVLDY-",
    "outputId": "61820267-7423-4c79-ec25-fa8409b3e484"
   },
   "outputs": [
    {
     "data": {
      "text/plain": [
       "DecisionTreeRegressor(ccp_alpha=0.0, criterion='mse', max_depth=None,\n",
       "                      max_features=None, max_leaf_nodes=None,\n",
       "                      min_impurity_decrease=0.0, min_impurity_split=None,\n",
       "                      min_samples_leaf=1, min_samples_split=2,\n",
       "                      min_weight_fraction_leaf=0.0, presort='deprecated',\n",
       "                      random_state=None, splitter='best')"
      ]
     },
     "execution_count": 93,
     "metadata": {},
     "output_type": "execute_result"
    }
   ],
   "source": [
    "regressor.fit(X_train, y_train)"
   ]
  },
  {
   "cell_type": "code",
   "execution_count": 97,
   "metadata": {
    "executionInfo": {
     "elapsed": 656,
     "status": "ok",
     "timestamp": 1630163294019,
     "user": {
      "displayName": "Sahil Rahman",
      "photoUrl": "https://lh3.googleusercontent.com/a-/AOh14GiJ8lzvw0EAvZyy3OveF6J53a3ecWuQmgHRsF6n6D4=s64",
      "userId": "17212050139887820689"
     },
     "user_tz": -330
    },
    "id": "fabERlscTbjw"
   },
   "outputs": [],
   "source": [
    "y_pred = regressor.predict(X_test)"
   ]
  },
  {
   "cell_type": "markdown",
   "metadata": {
    "id": "gwEFHOBxTFty"
   },
   "source": [
    "# Testing the model"
   ]
  },
  {
   "cell_type": "code",
   "execution_count": 105,
   "metadata": {
    "executionInfo": {
     "elapsed": 510,
     "status": "ok",
     "timestamp": 1630163643998,
     "user": {
      "displayName": "Sahil Rahman",
      "photoUrl": "https://lh3.googleusercontent.com/a-/AOh14GiJ8lzvw0EAvZyy3OveF6J53a3ecWuQmgHRsF6n6D4=s64",
      "userId": "17212050139887820689"
     },
     "user_tz": -330
    },
    "id": "mV8twG2YLDeh"
   },
   "outputs": [],
   "source": [
    "target = pd.DataFrame({\"Actual\":y_test.reshape(-1), \"Predicted\":y_pred.reshape(-1)})"
   ]
  },
  {
   "cell_type": "code",
   "execution_count": 109,
   "metadata": {
    "colab": {
     "base_uri": "https://localhost:8080/",
     "height": 205
    },
    "executionInfo": {
     "elapsed": 772,
     "status": "ok",
     "timestamp": 1630164135889,
     "user": {
      "displayName": "Sahil Rahman",
      "photoUrl": "https://lh3.googleusercontent.com/a-/AOh14GiJ8lzvw0EAvZyy3OveF6J53a3ecWuQmgHRsF6n6D4=s64",
      "userId": "17212050139887820689"
     },
     "user_tz": -330
    },
    "id": "bqjaTKycLDkI",
    "outputId": "e7d151db-d2dd-4256-94b4-38c6cd298f81"
   },
   "outputs": [
    {
     "data": {
      "text/html": [
       "<div>\n",
       "<style scoped>\n",
       "    .dataframe tbody tr th:only-of-type {\n",
       "        vertical-align: middle;\n",
       "    }\n",
       "\n",
       "    .dataframe tbody tr th {\n",
       "        vertical-align: top;\n",
       "    }\n",
       "\n",
       "    .dataframe thead th {\n",
       "        text-align: right;\n",
       "    }\n",
       "</style>\n",
       "<table border=\"1\" class=\"dataframe\">\n",
       "  <thead>\n",
       "    <tr style=\"text-align: right;\">\n",
       "      <th></th>\n",
       "      <th>Actual</th>\n",
       "      <th>Predicted</th>\n",
       "    </tr>\n",
       "  </thead>\n",
       "  <tbody>\n",
       "    <tr>\n",
       "      <th>0</th>\n",
       "      <td>840000</td>\n",
       "      <td>840000.0</td>\n",
       "    </tr>\n",
       "    <tr>\n",
       "      <th>1</th>\n",
       "      <td>198000</td>\n",
       "      <td>260000.0</td>\n",
       "    </tr>\n",
       "    <tr>\n",
       "      <th>2</th>\n",
       "      <td>470000</td>\n",
       "      <td>400000.0</td>\n",
       "    </tr>\n",
       "    <tr>\n",
       "      <th>3</th>\n",
       "      <td>535000</td>\n",
       "      <td>535000.0</td>\n",
       "    </tr>\n",
       "    <tr>\n",
       "      <th>4</th>\n",
       "      <td>320000</td>\n",
       "      <td>385000.0</td>\n",
       "    </tr>\n",
       "  </tbody>\n",
       "</table>\n",
       "</div>"
      ],
      "text/plain": [
       "   Actual  Predicted\n",
       "0  840000   840000.0\n",
       "1  198000   260000.0\n",
       "2  470000   400000.0\n",
       "3  535000   535000.0\n",
       "4  320000   385000.0"
      ]
     },
     "execution_count": 109,
     "metadata": {},
     "output_type": "execute_result"
    }
   ],
   "source": [
    "target.head()"
   ]
  },
  {
   "cell_type": "code",
   "execution_count": 110,
   "metadata": {
    "colab": {
     "base_uri": "https://localhost:8080/",
     "height": 286
    },
    "executionInfo": {
     "elapsed": 608,
     "status": "ok",
     "timestamp": 1630164155834,
     "user": {
      "displayName": "Sahil Rahman",
      "photoUrl": "https://lh3.googleusercontent.com/a-/AOh14GiJ8lzvw0EAvZyy3OveF6J53a3ecWuQmgHRsF6n6D4=s64",
      "userId": "17212050139887820689"
     },
     "user_tz": -330
    },
    "id": "nkkMS86VWfnd",
    "outputId": "2d7d2627-0d2d-4aab-9876-42e507ef83da"
   },
   "outputs": [
    {
     "data": {
      "text/plain": [
       "<matplotlib.axes._subplots.AxesSubplot at 0x7f64a4eb6310>"
      ]
     },
     "execution_count": 110,
     "metadata": {},
     "output_type": "execute_result"
    },
    {
     "data": {
      "image/png": "[encoded data removed]",
      "text/plain": [
       "<Figure size 432x288 with 2 Axes>"
      ]
     },
     "metadata": {
      "needs_background": "light"
     },
     "output_type": "display_data"
    }
   ],
   "source": [
    "sns.heatmap(target.corr(), annot=True, cmap='Greens')"
   ]
  },
  {
   "cell_type": "markdown",
   "metadata": {
    "id": "nzSMu5RyWO2a"
   },
   "source": [
    "# Performance\n"
   ]
  },
  {
   "cell_type": "code",
   "execution_count": 111,
   "metadata": {
    "colab": {
     "base_uri": "https://localhost:8080/"
    },
    "executionInfo": {
     "elapsed": 514,
     "status": "ok",
     "timestamp": 1630164181243,
     "user": {
      "displayName": "Sahil Rahman",
      "photoUrl": "https://lh3.googleusercontent.com/a-/AOh14GiJ8lzvw0EAvZyy3OveF6J53a3ecWuQmgHRsF6n6D4=s64",
      "userId": "17212050139887820689"
     },
     "user_tz": -330
    },
    "id": "yLDdPWF8LDqJ",
    "outputId": "682c766f-ce17-440f-aec6-383b17182598"
   },
   "outputs": [
    {
     "data": {
      "text/plain": [
       "0.45707128108681194"
      ]
     },
     "execution_count": 111,
     "metadata": {},
     "output_type": "execute_result"
    }
   ],
   "source": [
    "r2_score(y_test,y_pred)"
   ]
  },
  {
   "cell_type": "markdown",
   "metadata": {
    "id": "6Fr2nO7FHnjI"
   },
   "source": [
    "# # Therefore, the r2_score of our model using Decision Treee is 45%"
   ]
  },
  {
   "cell_type": "markdown",
   "metadata": {},
   "source": [
    "__________________________________________________________________________________________________________________________________________"
   ]
  },
  {
   "cell_type": "markdown",
   "metadata": {
    "id": "VLu8b79eht6K"
   },
   "source": [
    "# Random Forest Regressor Project\n",
    "\n",
    "Decision Tree - 45% -50%\n",
    "\n",
    "RFR - 92% - 93%\n",
    "\n",
    "Link: https://raw.githubusercontent.com/sahilrahman12/Price_prediction_of_used_Cars_-Predictive_Analysis-/master/cardekho_data.csv"
   ]
  },
  {
   "cell_type": "code",
   "execution_count": 1,
   "metadata": {},
   "outputs": [],
   "source": [
    "import numpy as np\n",
    "import pandas as pd\n",
    "import matplotlib.pyplot as plt\n",
    "import seaborn as sns\n",
    "import re"
   ]
  },
  {
   "cell_type": "markdown",
   "metadata": {
    "id": "GfijgblviFof"
   },
   "source": [
    "# Importing the dataset"
   ]
  },
  {
   "cell_type": "code",
   "execution_count": 10,
   "metadata": {
    "executionInfo": {
     "elapsed": 564,
     "status": "ok",
     "timestamp": 1630334923090,
     "user": {
      "displayName": "Sahil Rahman",
      "photoUrl": "https://lh3.googleusercontent.com/a-/AOh14GiJ8lzvw0EAvZyy3OveF6J53a3ecWuQmgHRsF6n6D4=s64",
      "userId": "17212050139887820689"
     },
     "user_tz": -330
    },
    "id": "QWQzynQYJTb7"
   },
   "outputs": [],
   "source": [
    "df = pd.read_csv('https://raw.githubusercontent.com/sahilrahman12/Price_prediction_of_used_Cars_-Predictive_Analysis-/master/cardekho_data.csv')"
   ]
  },
  {
   "cell_type": "code",
   "execution_count": 23,
   "metadata": {
    "colab": {
     "base_uri": "https://localhost:8080/",
     "height": 226
    },
    "executionInfo": {
     "elapsed": 412,
     "status": "ok",
     "timestamp": 1630334928493,
     "user": {
      "displayName": "Sahil Rahman",
      "photoUrl": "https://lh3.googleusercontent.com/a-/AOh14GiJ8lzvw0EAvZyy3OveF6J53a3ecWuQmgHRsF6n6D4=s64",
      "userId": "17212050139887820689"
     },
     "user_tz": -330
    },
    "id": "u41cHPneJTeV",
    "outputId": "2dff3a62-fa20-474f-d5a2-25793f472567"
   },
   "outputs": [
    {
     "data": {
      "text/html": [
       "<div>\n",
       "<style scoped>\n",
       "    .dataframe tbody tr th:only-of-type {\n",
       "        vertical-align: middle;\n",
       "    }\n",
       "\n",
       "    .dataframe tbody tr th {\n",
       "        vertical-align: top;\n",
       "    }\n",
       "\n",
       "    .dataframe thead th {\n",
       "        text-align: right;\n",
       "    }\n",
       "</style>\n",
       "<table border=\"1\" class=\"dataframe\">\n",
       "  <thead>\n",
       "    <tr style=\"text-align: right;\">\n",
       "      <th></th>\n",
       "      <th>Car_Name</th>\n",
       "      <th>Year</th>\n",
       "      <th>Selling_Price</th>\n",
       "      <th>Present_Price</th>\n",
       "      <th>Kms_Driven</th>\n",
       "      <th>Fuel_Type</th>\n",
       "      <th>Seller_Type</th>\n",
       "      <th>Transmission</th>\n",
       "      <th>Owner</th>\n",
       "    </tr>\n",
       "  </thead>\n",
       "  <tbody>\n",
       "    <tr>\n",
       "      <th>0</th>\n",
       "      <td>ritz</td>\n",
       "      <td>2014</td>\n",
       "      <td>3.35</td>\n",
       "      <td>5.59</td>\n",
       "      <td>27000</td>\n",
       "      <td>Petrol</td>\n",
       "      <td>Dealer</td>\n",
       "      <td>Manual</td>\n",
       "      <td>0</td>\n",
       "    </tr>\n",
       "    <tr>\n",
       "      <th>1</th>\n",
       "      <td>sx4</td>\n",
       "      <td>2013</td>\n",
       "      <td>4.75</td>\n",
       "      <td>9.54</td>\n",
       "      <td>43000</td>\n",
       "      <td>Diesel</td>\n",
       "      <td>Dealer</td>\n",
       "      <td>Manual</td>\n",
       "      <td>0</td>\n",
       "    </tr>\n",
       "    <tr>\n",
       "      <th>2</th>\n",
       "      <td>ciaz</td>\n",
       "      <td>2017</td>\n",
       "      <td>7.25</td>\n",
       "      <td>9.85</td>\n",
       "      <td>6900</td>\n",
       "      <td>Petrol</td>\n",
       "      <td>Dealer</td>\n",
       "      <td>Manual</td>\n",
       "      <td>0</td>\n",
       "    </tr>\n",
       "    <tr>\n",
       "      <th>3</th>\n",
       "      <td>wagon r</td>\n",
       "      <td>2011</td>\n",
       "      <td>2.85</td>\n",
       "      <td>4.15</td>\n",
       "      <td>5200</td>\n",
       "      <td>Petrol</td>\n",
       "      <td>Dealer</td>\n",
       "      <td>Manual</td>\n",
       "      <td>0</td>\n",
       "    </tr>\n",
       "    <tr>\n",
       "      <th>4</th>\n",
       "      <td>swift</td>\n",
       "      <td>2014</td>\n",
       "      <td>4.60</td>\n",
       "      <td>6.87</td>\n",
       "      <td>42450</td>\n",
       "      <td>Diesel</td>\n",
       "      <td>Dealer</td>\n",
       "      <td>Manual</td>\n",
       "      <td>0</td>\n",
       "    </tr>\n",
       "  </tbody>\n",
       "</table>\n",
       "</div>"
      ],
      "text/plain": [
       "  Car_Name  Year  Selling_Price  ...  Seller_Type  Transmission Owner\n",
       "0     ritz  2014           3.35  ...       Dealer        Manual     0\n",
       "1      sx4  2013           4.75  ...       Dealer        Manual     0\n",
       "2     ciaz  2017           7.25  ...       Dealer        Manual     0\n",
       "3  wagon r  2011           2.85  ...       Dealer        Manual     0\n",
       "4    swift  2014           4.60  ...       Dealer        Manual     0\n",
       "\n",
       "[5 rows x 9 columns]"
      ]
     },
     "execution_count": 23,
     "metadata": {},
     "output_type": "execute_result"
    }
   ],
   "source": [
    "df.head()"
   ]
  },
  {
   "cell_type": "markdown",
   "metadata": {
    "id": "EpgNGma8iRGH"
   },
   "source": [
    "# Data Analysis(EDA, DE, DM, DC, DV)"
   ]
  },
  {
   "cell_type": "code",
   "execution_count": 24,
   "metadata": {
    "colab": {
     "base_uri": "https://localhost:8080/"
    },
    "executionInfo": {
     "elapsed": 798,
     "status": "ok",
     "timestamp": 1630334974379,
     "user": {
      "displayName": "Sahil Rahman",
      "photoUrl": "https://lh3.googleusercontent.com/a-/AOh14GiJ8lzvw0EAvZyy3OveF6J53a3ecWuQmgHRsF6n6D4=s64",
      "userId": "17212050139887820689"
     },
     "user_tz": -330
    },
    "id": "3bdXKuAfJThd",
    "outputId": "b7cda21b-f46c-4ec5-c91a-e6a2264d0269"
   },
   "outputs": [
    {
     "data": {
      "text/plain": [
       "(301, 9)"
      ]
     },
     "execution_count": 24,
     "metadata": {},
     "output_type": "execute_result"
    }
   ],
   "source": [
    "df.shape"
   ]
  },
  {
   "cell_type": "code",
   "execution_count": 25,
   "metadata": {
    "colab": {
     "base_uri": "https://localhost:8080/"
    },
    "executionInfo": {
     "elapsed": 544,
     "status": "ok",
     "timestamp": 1630335079110,
     "user": {
      "displayName": "Sahil Rahman",
      "photoUrl": "https://lh3.googleusercontent.com/a-/AOh14GiJ8lzvw0EAvZyy3OveF6J53a3ecWuQmgHRsF6n6D4=s64",
      "userId": "17212050139887820689"
     },
     "user_tz": -330
    },
    "id": "KCP5tZU5JTkx",
    "outputId": "7b3c7ba7-35a1-495f-8763-3dd0a84911ae"
   },
   "outputs": [
    {
     "name": "stdout",
     "output_type": "stream",
     "text": [
      "Fuel Type ['Petrol' 'Diesel' 'CNG']\n",
      "Seller Type ['Dealer' 'Individual']\n",
      "Transmission ['Manual' 'Automatic']\n",
      "Owner Type [0 1 3]\n"
     ]
    }
   ],
   "source": [
    "print(\"Fuel Type\",df.Fuel_Type.unique())\n",
    "print(\"Seller Type\",df.Seller_Type.unique())\n",
    "print(\"Transmission\",df.Transmission.unique())\n",
    "print(\"Owner Type\",df.Owner.unique())"
   ]
  },
  {
   "cell_type": "code",
   "execution_count": 26,
   "metadata": {
    "colab": {
     "base_uri": "https://localhost:8080/"
    },
    "executionInfo": {
     "elapsed": 407,
     "status": "ok",
     "timestamp": 1630335119763,
     "user": {
      "displayName": "Sahil Rahman",
      "photoUrl": "https://lh3.googleusercontent.com/a-/AOh14GiJ8lzvw0EAvZyy3OveF6J53a3ecWuQmgHRsF6n6D4=s64",
      "userId": "17212050139887820689"
     },
     "user_tz": -330
    },
    "id": "3jruAiA-JTmf",
    "outputId": "eada6fd2-c8cd-4d29-c32a-65c98ea17ec5"
   },
   "outputs": [
    {
     "data": {
      "text/plain": [
       "Car_Name         0\n",
       "Year             0\n",
       "Selling_Price    0\n",
       "Present_Price    0\n",
       "Kms_Driven       0\n",
       "Fuel_Type        0\n",
       "Seller_Type      0\n",
       "Transmission     0\n",
       "Owner            0\n",
       "dtype: int64"
      ]
     },
     "execution_count": 26,
     "metadata": {},
     "output_type": "execute_result"
    }
   ],
   "source": [
    "df.isnull().sum()"
   ]
  },
  {
   "cell_type": "code",
   "execution_count": 27,
   "metadata": {
    "colab": {
     "base_uri": "https://localhost:8080/",
     "height": 300
    },
    "executionInfo": {
     "elapsed": 617,
     "status": "ok",
     "timestamp": 1630335137350,
     "user": {
      "displayName": "Sahil Rahman",
      "photoUrl": "https://lh3.googleusercontent.com/a-/AOh14GiJ8lzvw0EAvZyy3OveF6J53a3ecWuQmgHRsF6n6D4=s64",
      "userId": "17212050139887820689"
     },
     "user_tz": -330
    },
    "id": "JRc6fCczJTro",
    "outputId": "a9728b81-803a-4b1c-d68c-9f311d154f65"
   },
   "outputs": [
    {
     "data": {
      "text/html": [
       "<div>\n",
       "<style scoped>\n",
       "    .dataframe tbody tr th:only-of-type {\n",
       "        vertical-align: middle;\n",
       "    }\n",
       "\n",
       "    .dataframe tbody tr th {\n",
       "        vertical-align: top;\n",
       "    }\n",
       "\n",
       "    .dataframe thead th {\n",
       "        text-align: right;\n",
       "    }\n",
       "</style>\n",
       "<table border=\"1\" class=\"dataframe\">\n",
       "  <thead>\n",
       "    <tr style=\"text-align: right;\">\n",
       "      <th></th>\n",
       "      <th>Year</th>\n",
       "      <th>Selling_Price</th>\n",
       "      <th>Present_Price</th>\n",
       "      <th>Kms_Driven</th>\n",
       "      <th>Owner</th>\n",
       "    </tr>\n",
       "  </thead>\n",
       "  <tbody>\n",
       "    <tr>\n",
       "      <th>count</th>\n",
       "      <td>301.000000</td>\n",
       "      <td>301.000000</td>\n",
       "      <td>301.000000</td>\n",
       "      <td>301.000000</td>\n",
       "      <td>301.000000</td>\n",
       "    </tr>\n",
       "    <tr>\n",
       "      <th>mean</th>\n",
       "      <td>2013.627907</td>\n",
       "      <td>4.661296</td>\n",
       "      <td>7.628472</td>\n",
       "      <td>36947.205980</td>\n",
       "      <td>0.043189</td>\n",
       "    </tr>\n",
       "    <tr>\n",
       "      <th>std</th>\n",
       "      <td>2.891554</td>\n",
       "      <td>5.082812</td>\n",
       "      <td>8.644115</td>\n",
       "      <td>38886.883882</td>\n",
       "      <td>0.247915</td>\n",
       "    </tr>\n",
       "    <tr>\n",
       "      <th>min</th>\n",
       "      <td>2003.000000</td>\n",
       "      <td>0.100000</td>\n",
       "      <td>0.320000</td>\n",
       "      <td>500.000000</td>\n",
       "      <td>0.000000</td>\n",
       "    </tr>\n",
       "    <tr>\n",
       "      <th>25%</th>\n",
       "      <td>2012.000000</td>\n",
       "      <td>0.900000</td>\n",
       "      <td>1.200000</td>\n",
       "      <td>15000.000000</td>\n",
       "      <td>0.000000</td>\n",
       "    </tr>\n",
       "    <tr>\n",
       "      <th>50%</th>\n",
       "      <td>2014.000000</td>\n",
       "      <td>3.600000</td>\n",
       "      <td>6.400000</td>\n",
       "      <td>32000.000000</td>\n",
       "      <td>0.000000</td>\n",
       "    </tr>\n",
       "    <tr>\n",
       "      <th>75%</th>\n",
       "      <td>2016.000000</td>\n",
       "      <td>6.000000</td>\n",
       "      <td>9.900000</td>\n",
       "      <td>48767.000000</td>\n",
       "      <td>0.000000</td>\n",
       "    </tr>\n",
       "    <tr>\n",
       "      <th>max</th>\n",
       "      <td>2018.000000</td>\n",
       "      <td>35.000000</td>\n",
       "      <td>92.600000</td>\n",
       "      <td>500000.000000</td>\n",
       "      <td>3.000000</td>\n",
       "    </tr>\n",
       "  </tbody>\n",
       "</table>\n",
       "</div>"
      ],
      "text/plain": [
       "              Year  Selling_Price  Present_Price     Kms_Driven       Owner\n",
       "count   301.000000     301.000000     301.000000     301.000000  301.000000\n",
       "mean   2013.627907       4.661296       7.628472   36947.205980    0.043189\n",
       "std       2.891554       5.082812       8.644115   38886.883882    0.247915\n",
       "min    2003.000000       0.100000       0.320000     500.000000    0.000000\n",
       "25%    2012.000000       0.900000       1.200000   15000.000000    0.000000\n",
       "50%    2014.000000       3.600000       6.400000   32000.000000    0.000000\n",
       "75%    2016.000000       6.000000       9.900000   48767.000000    0.000000\n",
       "max    2018.000000      35.000000      92.600000  500000.000000    3.000000"
      ]
     },
     "execution_count": 27,
     "metadata": {},
     "output_type": "execute_result"
    }
   ],
   "source": [
    "df.describe()"
   ]
  },
  {
   "cell_type": "code",
   "execution_count": 28,
   "metadata": {
    "executionInfo": {
     "elapsed": 415,
     "status": "ok",
     "timestamp": 1630335236048,
     "user": {
      "displayName": "Sahil Rahman",
      "photoUrl": "https://lh3.googleusercontent.com/a-/AOh14GiJ8lzvw0EAvZyy3OveF6J53a3ecWuQmgHRsF6n6D4=s64",
      "userId": "17212050139887820689"
     },
     "user_tz": -330
    },
    "id": "ct0kiaUeJTuS"
   },
   "outputs": [],
   "source": [
    "df['current_year'] = 2021"
   ]
  },
  {
   "cell_type": "code",
   "execution_count": 29,
   "metadata": {
    "executionInfo": {
     "elapsed": 408,
     "status": "ok",
     "timestamp": 1630335260152,
     "user": {
      "displayName": "Sahil Rahman",
      "photoUrl": "https://lh3.googleusercontent.com/a-/AOh14GiJ8lzvw0EAvZyy3OveF6J53a3ecWuQmgHRsF6n6D4=s64",
      "userId": "17212050139887820689"
     },
     "user_tz": -330
    },
    "id": "3D3qtllKJT0K"
   },
   "outputs": [],
   "source": [
    "df['no. of year'] = df['current_year'] - df['Year']"
   ]
  },
  {
   "cell_type": "code",
   "execution_count": 30,
   "metadata": {
    "colab": {
     "base_uri": "https://localhost:8080/",
     "height": 261
    },
    "executionInfo": {
     "elapsed": 590,
     "status": "ok",
     "timestamp": 1630335265524,
     "user": {
      "displayName": "Sahil Rahman",
      "photoUrl": "https://lh3.googleusercontent.com/a-/AOh14GiJ8lzvw0EAvZyy3OveF6J53a3ecWuQmgHRsF6n6D4=s64",
      "userId": "17212050139887820689"
     },
     "user_tz": -330
    },
    "id": "GAwlxflPJT3L",
    "outputId": "c36b68a5-6000-4097-af0f-9933554f4379"
   },
   "outputs": [
    {
     "data": {
      "text/html": [
       "<div>\n",
       "<style scoped>\n",
       "    .dataframe tbody tr th:only-of-type {\n",
       "        vertical-align: middle;\n",
       "    }\n",
       "\n",
       "    .dataframe tbody tr th {\n",
       "        vertical-align: top;\n",
       "    }\n",
       "\n",
       "    .dataframe thead th {\n",
       "        text-align: right;\n",
       "    }\n",
       "</style>\n",
       "<table border=\"1\" class=\"dataframe\">\n",
       "  <thead>\n",
       "    <tr style=\"text-align: right;\">\n",
       "      <th></th>\n",
       "      <th>Car_Name</th>\n",
       "      <th>Year</th>\n",
       "      <th>Selling_Price</th>\n",
       "      <th>Present_Price</th>\n",
       "      <th>Kms_Driven</th>\n",
       "      <th>Fuel_Type</th>\n",
       "      <th>Seller_Type</th>\n",
       "      <th>Transmission</th>\n",
       "      <th>Owner</th>\n",
       "      <th>current_year</th>\n",
       "      <th>no. of year</th>\n",
       "    </tr>\n",
       "  </thead>\n",
       "  <tbody>\n",
       "    <tr>\n",
       "      <th>0</th>\n",
       "      <td>ritz</td>\n",
       "      <td>2014</td>\n",
       "      <td>3.35</td>\n",
       "      <td>5.59</td>\n",
       "      <td>27000</td>\n",
       "      <td>Petrol</td>\n",
       "      <td>Dealer</td>\n",
       "      <td>Manual</td>\n",
       "      <td>0</td>\n",
       "      <td>2021</td>\n",
       "      <td>7</td>\n",
       "    </tr>\n",
       "    <tr>\n",
       "      <th>1</th>\n",
       "      <td>sx4</td>\n",
       "      <td>2013</td>\n",
       "      <td>4.75</td>\n",
       "      <td>9.54</td>\n",
       "      <td>43000</td>\n",
       "      <td>Diesel</td>\n",
       "      <td>Dealer</td>\n",
       "      <td>Manual</td>\n",
       "      <td>0</td>\n",
       "      <td>2021</td>\n",
       "      <td>8</td>\n",
       "    </tr>\n",
       "    <tr>\n",
       "      <th>2</th>\n",
       "      <td>ciaz</td>\n",
       "      <td>2017</td>\n",
       "      <td>7.25</td>\n",
       "      <td>9.85</td>\n",
       "      <td>6900</td>\n",
       "      <td>Petrol</td>\n",
       "      <td>Dealer</td>\n",
       "      <td>Manual</td>\n",
       "      <td>0</td>\n",
       "      <td>2021</td>\n",
       "      <td>4</td>\n",
       "    </tr>\n",
       "    <tr>\n",
       "      <th>3</th>\n",
       "      <td>wagon r</td>\n",
       "      <td>2011</td>\n",
       "      <td>2.85</td>\n",
       "      <td>4.15</td>\n",
       "      <td>5200</td>\n",
       "      <td>Petrol</td>\n",
       "      <td>Dealer</td>\n",
       "      <td>Manual</td>\n",
       "      <td>0</td>\n",
       "      <td>2021</td>\n",
       "      <td>10</td>\n",
       "    </tr>\n",
       "    <tr>\n",
       "      <th>4</th>\n",
       "      <td>swift</td>\n",
       "      <td>2014</td>\n",
       "      <td>4.60</td>\n",
       "      <td>6.87</td>\n",
       "      <td>42450</td>\n",
       "      <td>Diesel</td>\n",
       "      <td>Dealer</td>\n",
       "      <td>Manual</td>\n",
       "      <td>0</td>\n",
       "      <td>2021</td>\n",
       "      <td>7</td>\n",
       "    </tr>\n",
       "  </tbody>\n",
       "</table>\n",
       "</div>"
      ],
      "text/plain": [
       "  Car_Name  Year  Selling_Price  ...  Owner  current_year no. of year\n",
       "0     ritz  2014           3.35  ...      0          2021           7\n",
       "1      sx4  2013           4.75  ...      0          2021           8\n",
       "2     ciaz  2017           7.25  ...      0          2021           4\n",
       "3  wagon r  2011           2.85  ...      0          2021          10\n",
       "4    swift  2014           4.60  ...      0          2021           7\n",
       "\n",
       "[5 rows x 11 columns]"
      ]
     },
     "execution_count": 30,
     "metadata": {},
     "output_type": "execute_result"
    }
   ],
   "source": [
    "df.head()"
   ]
  },
  {
   "cell_type": "code",
   "execution_count": 32,
   "metadata": {
    "executionInfo": {
     "elapsed": 6,
     "status": "ok",
     "timestamp": 1630335643634,
     "user": {
      "displayName": "Sahil Rahman",
      "photoUrl": "https://lh3.googleusercontent.com/a-/AOh14GiJ8lzvw0EAvZyy3OveF6J53a3ecWuQmgHRsF6n6D4=s64",
      "userId": "17212050139887820689"
     },
     "user_tz": -330
    },
    "id": "pQ1pb5-nJT7F"
   },
   "outputs": [],
   "source": [
    "df.drop(['Car_Name', 'Year', 'current_year'],axis=1, inplace=True)"
   ]
  },
  {
   "cell_type": "code",
   "execution_count": 33,
   "metadata": {
    "colab": {
     "base_uri": "https://localhost:8080/",
     "height": 223
    },
    "executionInfo": {
     "elapsed": 404,
     "status": "ok",
     "timestamp": 1630335649667,
     "user": {
      "displayName": "Sahil Rahman",
      "photoUrl": "https://lh3.googleusercontent.com/a-/AOh14GiJ8lzvw0EAvZyy3OveF6J53a3ecWuQmgHRsF6n6D4=s64",
      "userId": "17212050139887820689"
     },
     "user_tz": -330
    },
    "id": "sE5ZtssJJUAL",
    "outputId": "a4e1b410-e248-40fb-f5fc-1e70c8391e68"
   },
   "outputs": [
    {
     "data": {
      "text/html": [
       "<div>\n",
       "<style scoped>\n",
       "    .dataframe tbody tr th:only-of-type {\n",
       "        vertical-align: middle;\n",
       "    }\n",
       "\n",
       "    .dataframe tbody tr th {\n",
       "        vertical-align: top;\n",
       "    }\n",
       "\n",
       "    .dataframe thead th {\n",
       "        text-align: right;\n",
       "    }\n",
       "</style>\n",
       "<table border=\"1\" class=\"dataframe\">\n",
       "  <thead>\n",
       "    <tr style=\"text-align: right;\">\n",
       "      <th></th>\n",
       "      <th>Selling_Price</th>\n",
       "      <th>Present_Price</th>\n",
       "      <th>Kms_Driven</th>\n",
       "      <th>Fuel_Type</th>\n",
       "      <th>Seller_Type</th>\n",
       "      <th>Transmission</th>\n",
       "      <th>Owner</th>\n",
       "      <th>no. of year</th>\n",
       "    </tr>\n",
       "  </thead>\n",
       "  <tbody>\n",
       "    <tr>\n",
       "      <th>0</th>\n",
       "      <td>3.35</td>\n",
       "      <td>5.59</td>\n",
       "      <td>27000</td>\n",
       "      <td>Petrol</td>\n",
       "      <td>Dealer</td>\n",
       "      <td>Manual</td>\n",
       "      <td>0</td>\n",
       "      <td>7</td>\n",
       "    </tr>\n",
       "    <tr>\n",
       "      <th>1</th>\n",
       "      <td>4.75</td>\n",
       "      <td>9.54</td>\n",
       "      <td>43000</td>\n",
       "      <td>Diesel</td>\n",
       "      <td>Dealer</td>\n",
       "      <td>Manual</td>\n",
       "      <td>0</td>\n",
       "      <td>8</td>\n",
       "    </tr>\n",
       "    <tr>\n",
       "      <th>2</th>\n",
       "      <td>7.25</td>\n",
       "      <td>9.85</td>\n",
       "      <td>6900</td>\n",
       "      <td>Petrol</td>\n",
       "      <td>Dealer</td>\n",
       "      <td>Manual</td>\n",
       "      <td>0</td>\n",
       "      <td>4</td>\n",
       "    </tr>\n",
       "    <tr>\n",
       "      <th>3</th>\n",
       "      <td>2.85</td>\n",
       "      <td>4.15</td>\n",
       "      <td>5200</td>\n",
       "      <td>Petrol</td>\n",
       "      <td>Dealer</td>\n",
       "      <td>Manual</td>\n",
       "      <td>0</td>\n",
       "      <td>10</td>\n",
       "    </tr>\n",
       "    <tr>\n",
       "      <th>4</th>\n",
       "      <td>4.60</td>\n",
       "      <td>6.87</td>\n",
       "      <td>42450</td>\n",
       "      <td>Diesel</td>\n",
       "      <td>Dealer</td>\n",
       "      <td>Manual</td>\n",
       "      <td>0</td>\n",
       "      <td>7</td>\n",
       "    </tr>\n",
       "  </tbody>\n",
       "</table>\n",
       "</div>"
      ],
      "text/plain": [
       "   Selling_Price  Present_Price  Kms_Driven  ... Transmission Owner no. of year\n",
       "0           3.35           5.59       27000  ...       Manual     0           7\n",
       "1           4.75           9.54       43000  ...       Manual     0           8\n",
       "2           7.25           9.85        6900  ...       Manual     0           4\n",
       "3           2.85           4.15        5200  ...       Manual     0          10\n",
       "4           4.60           6.87       42450  ...       Manual     0           7\n",
       "\n",
       "[5 rows x 8 columns]"
      ]
     },
     "execution_count": 33,
     "metadata": {},
     "output_type": "execute_result"
    }
   ],
   "source": [
    "df.head()"
   ]
  },
  {
   "cell_type": "code",
   "execution_count": 36,
   "metadata": {
    "executionInfo": {
     "elapsed": 391,
     "status": "ok",
     "timestamp": 1630335865801,
     "user": {
      "displayName": "Sahil Rahman",
      "photoUrl": "https://lh3.googleusercontent.com/a-/AOh14GiJ8lzvw0EAvZyy3OveF6J53a3ecWuQmgHRsF6n6D4=s64",
      "userId": "17212050139887820689"
     },
     "user_tz": -330
    },
    "id": "m9bWPlC4JUD_"
   },
   "outputs": [],
   "source": [
    "df = pd.get_dummies(df)"
   ]
  },
  {
   "cell_type": "code",
   "execution_count": 37,
   "metadata": {
    "colab": {
     "base_uri": "https://localhost:8080/",
     "height": 261
    },
    "executionInfo": {
     "elapsed": 6,
     "status": "ok",
     "timestamp": 1630335870141,
     "user": {
      "displayName": "Sahil Rahman",
      "photoUrl": "https://lh3.googleusercontent.com/a-/AOh14GiJ8lzvw0EAvZyy3OveF6J53a3ecWuQmgHRsF6n6D4=s64",
      "userId": "17212050139887820689"
     },
     "user_tz": -330
    },
    "id": "5-62tccnJUF8",
    "outputId": "fae2e975-39fd-4b50-a406-da59c378d8dc"
   },
   "outputs": [
    {
     "data": {
      "text/html": [
       "<div>\n",
       "<style scoped>\n",
       "    .dataframe tbody tr th:only-of-type {\n",
       "        vertical-align: middle;\n",
       "    }\n",
       "\n",
       "    .dataframe tbody tr th {\n",
       "        vertical-align: top;\n",
       "    }\n",
       "\n",
       "    .dataframe thead th {\n",
       "        text-align: right;\n",
       "    }\n",
       "</style>\n",
       "<table border=\"1\" class=\"dataframe\">\n",
       "  <thead>\n",
       "    <tr style=\"text-align: right;\">\n",
       "      <th></th>\n",
       "      <th>Selling_Price</th>\n",
       "      <th>Present_Price</th>\n",
       "      <th>Kms_Driven</th>\n",
       "      <th>Owner</th>\n",
       "      <th>no. of year</th>\n",
       "      <th>Fuel_Type_CNG</th>\n",
       "      <th>Fuel_Type_Diesel</th>\n",
       "      <th>Fuel_Type_Petrol</th>\n",
       "      <th>Seller_Type_Dealer</th>\n",
       "      <th>Seller_Type_Individual</th>\n",
       "      <th>Transmission_Automatic</th>\n",
       "      <th>Transmission_Manual</th>\n",
       "    </tr>\n",
       "  </thead>\n",
       "  <tbody>\n",
       "    <tr>\n",
       "      <th>0</th>\n",
       "      <td>3.35</td>\n",
       "      <td>5.59</td>\n",
       "      <td>27000</td>\n",
       "      <td>0</td>\n",
       "      <td>7</td>\n",
       "      <td>0</td>\n",
       "      <td>0</td>\n",
       "      <td>1</td>\n",
       "      <td>1</td>\n",
       "      <td>0</td>\n",
       "      <td>0</td>\n",
       "      <td>1</td>\n",
       "    </tr>\n",
       "    <tr>\n",
       "      <th>1</th>\n",
       "      <td>4.75</td>\n",
       "      <td>9.54</td>\n",
       "      <td>43000</td>\n",
       "      <td>0</td>\n",
       "      <td>8</td>\n",
       "      <td>0</td>\n",
       "      <td>1</td>\n",
       "      <td>0</td>\n",
       "      <td>1</td>\n",
       "      <td>0</td>\n",
       "      <td>0</td>\n",
       "      <td>1</td>\n",
       "    </tr>\n",
       "    <tr>\n",
       "      <th>2</th>\n",
       "      <td>7.25</td>\n",
       "      <td>9.85</td>\n",
       "      <td>6900</td>\n",
       "      <td>0</td>\n",
       "      <td>4</td>\n",
       "      <td>0</td>\n",
       "      <td>0</td>\n",
       "      <td>1</td>\n",
       "      <td>1</td>\n",
       "      <td>0</td>\n",
       "      <td>0</td>\n",
       "      <td>1</td>\n",
       "    </tr>\n",
       "    <tr>\n",
       "      <th>3</th>\n",
       "      <td>2.85</td>\n",
       "      <td>4.15</td>\n",
       "      <td>5200</td>\n",
       "      <td>0</td>\n",
       "      <td>10</td>\n",
       "      <td>0</td>\n",
       "      <td>0</td>\n",
       "      <td>1</td>\n",
       "      <td>1</td>\n",
       "      <td>0</td>\n",
       "      <td>0</td>\n",
       "      <td>1</td>\n",
       "    </tr>\n",
       "    <tr>\n",
       "      <th>4</th>\n",
       "      <td>4.60</td>\n",
       "      <td>6.87</td>\n",
       "      <td>42450</td>\n",
       "      <td>0</td>\n",
       "      <td>7</td>\n",
       "      <td>0</td>\n",
       "      <td>1</td>\n",
       "      <td>0</td>\n",
       "      <td>1</td>\n",
       "      <td>0</td>\n",
       "      <td>0</td>\n",
       "      <td>1</td>\n",
       "    </tr>\n",
       "  </tbody>\n",
       "</table>\n",
       "</div>"
      ],
      "text/plain": [
       "   Selling_Price  Present_Price  ...  Transmission_Automatic  Transmission_Manual\n",
       "0           3.35           5.59  ...                       0                    1\n",
       "1           4.75           9.54  ...                       0                    1\n",
       "2           7.25           9.85  ...                       0                    1\n",
       "3           2.85           4.15  ...                       0                    1\n",
       "4           4.60           6.87  ...                       0                    1\n",
       "\n",
       "[5 rows x 12 columns]"
      ]
     },
     "execution_count": 37,
     "metadata": {},
     "output_type": "execute_result"
    }
   ],
   "source": [
    "df.head()"
   ]
  },
  {
   "cell_type": "code",
   "execution_count": 39,
   "metadata": {
    "executionInfo": {
     "elapsed": 398,
     "status": "ok",
     "timestamp": 1630336309307,
     "user": {
      "displayName": "Sahil Rahman",
      "photoUrl": "https://lh3.googleusercontent.com/a-/AOh14GiJ8lzvw0EAvZyy3OveF6J53a3ecWuQmgHRsF6n6D4=s64",
      "userId": "17212050139887820689"
     },
     "user_tz": -330
    },
    "id": "fd3Iu_TAJUJq"
   },
   "outputs": [],
   "source": [
    "df.drop(['Fuel_Type_CNG', 'Seller_Type_Dealer', 'Transmission_Automatic'],axis=1, inplace=True)"
   ]
  },
  {
   "cell_type": "code",
   "execution_count": 40,
   "metadata": {
    "colab": {
     "base_uri": "https://localhost:8080/",
     "height": 261
    },
    "executionInfo": {
     "elapsed": 7,
     "status": "ok",
     "timestamp": 1630336318045,
     "user": {
      "displayName": "Sahil Rahman",
      "photoUrl": "https://lh3.googleusercontent.com/a-/AOh14GiJ8lzvw0EAvZyy3OveF6J53a3ecWuQmgHRsF6n6D4=s64",
      "userId": "17212050139887820689"
     },
     "user_tz": -330
    },
    "id": "QBubo7SwJUMV",
    "outputId": "a6c7f081-7df1-42ac-8487-dd42d4254e26"
   },
   "outputs": [
    {
     "data": {
      "text/html": [
       "<div>\n",
       "<style scoped>\n",
       "    .dataframe tbody tr th:only-of-type {\n",
       "        vertical-align: middle;\n",
       "    }\n",
       "\n",
       "    .dataframe tbody tr th {\n",
       "        vertical-align: top;\n",
       "    }\n",
       "\n",
       "    .dataframe thead th {\n",
       "        text-align: right;\n",
       "    }\n",
       "</style>\n",
       "<table border=\"1\" class=\"dataframe\">\n",
       "  <thead>\n",
       "    <tr style=\"text-align: right;\">\n",
       "      <th></th>\n",
       "      <th>Selling_Price</th>\n",
       "      <th>Present_Price</th>\n",
       "      <th>Kms_Driven</th>\n",
       "      <th>Owner</th>\n",
       "      <th>no. of year</th>\n",
       "      <th>Fuel_Type_Diesel</th>\n",
       "      <th>Fuel_Type_Petrol</th>\n",
       "      <th>Seller_Type_Individual</th>\n",
       "      <th>Transmission_Manual</th>\n",
       "    </tr>\n",
       "  </thead>\n",
       "  <tbody>\n",
       "    <tr>\n",
       "      <th>0</th>\n",
       "      <td>3.35</td>\n",
       "      <td>5.59</td>\n",
       "      <td>27000</td>\n",
       "      <td>0</td>\n",
       "      <td>7</td>\n",
       "      <td>0</td>\n",
       "      <td>1</td>\n",
       "      <td>0</td>\n",
       "      <td>1</td>\n",
       "    </tr>\n",
       "    <tr>\n",
       "      <th>1</th>\n",
       "      <td>4.75</td>\n",
       "      <td>9.54</td>\n",
       "      <td>43000</td>\n",
       "      <td>0</td>\n",
       "      <td>8</td>\n",
       "      <td>1</td>\n",
       "      <td>0</td>\n",
       "      <td>0</td>\n",
       "      <td>1</td>\n",
       "    </tr>\n",
       "    <tr>\n",
       "      <th>2</th>\n",
       "      <td>7.25</td>\n",
       "      <td>9.85</td>\n",
       "      <td>6900</td>\n",
       "      <td>0</td>\n",
       "      <td>4</td>\n",
       "      <td>0</td>\n",
       "      <td>1</td>\n",
       "      <td>0</td>\n",
       "      <td>1</td>\n",
       "    </tr>\n",
       "    <tr>\n",
       "      <th>3</th>\n",
       "      <td>2.85</td>\n",
       "      <td>4.15</td>\n",
       "      <td>5200</td>\n",
       "      <td>0</td>\n",
       "      <td>10</td>\n",
       "      <td>0</td>\n",
       "      <td>1</td>\n",
       "      <td>0</td>\n",
       "      <td>1</td>\n",
       "    </tr>\n",
       "    <tr>\n",
       "      <th>4</th>\n",
       "      <td>4.60</td>\n",
       "      <td>6.87</td>\n",
       "      <td>42450</td>\n",
       "      <td>0</td>\n",
       "      <td>7</td>\n",
       "      <td>1</td>\n",
       "      <td>0</td>\n",
       "      <td>0</td>\n",
       "      <td>1</td>\n",
       "    </tr>\n",
       "  </tbody>\n",
       "</table>\n",
       "</div>"
      ],
      "text/plain": [
       "   Selling_Price  Present_Price  ...  Seller_Type_Individual  Transmission_Manual\n",
       "0           3.35           5.59  ...                       0                    1\n",
       "1           4.75           9.54  ...                       0                    1\n",
       "2           7.25           9.85  ...                       0                    1\n",
       "3           2.85           4.15  ...                       0                    1\n",
       "4           4.60           6.87  ...                       0                    1\n",
       "\n",
       "[5 rows x 9 columns]"
      ]
     },
     "execution_count": 40,
     "metadata": {},
     "output_type": "execute_result"
    }
   ],
   "source": [
    "df.head()"
   ]
  },
  {
   "cell_type": "code",
   "execution_count": 42,
   "metadata": {
    "colab": {
     "base_uri": "https://localhost:8080/"
    },
    "executionInfo": {
     "elapsed": 400,
     "status": "ok",
     "timestamp": 1630336377614,
     "user": {
      "displayName": "Sahil Rahman",
      "photoUrl": "https://lh3.googleusercontent.com/a-/AOh14GiJ8lzvw0EAvZyy3OveF6J53a3ecWuQmgHRsF6n6D4=s64",
      "userId": "17212050139887820689"
     },
     "user_tz": -330
    },
    "id": "yxLPAmvbJUP1",
    "outputId": "2873b3ec-7d11-445e-e96c-c9db25e3ac22"
   },
   "outputs": [
    {
     "data": {
      "text/plain": [
       "(301, 9)"
      ]
     },
     "execution_count": 42,
     "metadata": {},
     "output_type": "execute_result"
    }
   ],
   "source": [
    "df.shape"
   ]
  },
  {
   "cell_type": "code",
   "execution_count": 43,
   "metadata": {
    "colab": {
     "base_uri": "https://localhost:8080/",
     "height": 369
    },
    "executionInfo": {
     "elapsed": 395,
     "status": "ok",
     "timestamp": 1630336395624,
     "user": {
      "displayName": "Sahil Rahman",
      "photoUrl": "https://lh3.googleusercontent.com/a-/AOh14GiJ8lzvw0EAvZyy3OveF6J53a3ecWuQmgHRsF6n6D4=s64",
      "userId": "17212050139887820689"
     },
     "user_tz": -330
    },
    "id": "8ESvwUddJUSS",
    "outputId": "0de59e84-f434-4b2a-a9f3-eaa67d37dcdb"
   },
   "outputs": [
    {
     "data": {
      "text/html": [
       "<div>\n",
       "<style scoped>\n",
       "    .dataframe tbody tr th:only-of-type {\n",
       "        vertical-align: middle;\n",
       "    }\n",
       "\n",
       "    .dataframe tbody tr th {\n",
       "        vertical-align: top;\n",
       "    }\n",
       "\n",
       "    .dataframe thead th {\n",
       "        text-align: right;\n",
       "    }\n",
       "</style>\n",
       "<table border=\"1\" class=\"dataframe\">\n",
       "  <thead>\n",
       "    <tr style=\"text-align: right;\">\n",
       "      <th></th>\n",
       "      <th>Selling_Price</th>\n",
       "      <th>Present_Price</th>\n",
       "      <th>Kms_Driven</th>\n",
       "      <th>Owner</th>\n",
       "      <th>no. of year</th>\n",
       "      <th>Fuel_Type_Diesel</th>\n",
       "      <th>Fuel_Type_Petrol</th>\n",
       "      <th>Seller_Type_Individual</th>\n",
       "      <th>Transmission_Manual</th>\n",
       "    </tr>\n",
       "  </thead>\n",
       "  <tbody>\n",
       "    <tr>\n",
       "      <th>Selling_Price</th>\n",
       "      <td>1.000000</td>\n",
       "      <td>0.878983</td>\n",
       "      <td>0.029187</td>\n",
       "      <td>-0.088344</td>\n",
       "      <td>-0.236141</td>\n",
       "      <td>0.552339</td>\n",
       "      <td>-0.540571</td>\n",
       "      <td>-0.550724</td>\n",
       "      <td>-0.367128</td>\n",
       "    </tr>\n",
       "    <tr>\n",
       "      <th>Present_Price</th>\n",
       "      <td>0.878983</td>\n",
       "      <td>1.000000</td>\n",
       "      <td>0.203647</td>\n",
       "      <td>0.008057</td>\n",
       "      <td>0.047584</td>\n",
       "      <td>0.473306</td>\n",
       "      <td>-0.465244</td>\n",
       "      <td>-0.512030</td>\n",
       "      <td>-0.348715</td>\n",
       "    </tr>\n",
       "    <tr>\n",
       "      <th>Kms_Driven</th>\n",
       "      <td>0.029187</td>\n",
       "      <td>0.203647</td>\n",
       "      <td>1.000000</td>\n",
       "      <td>0.089216</td>\n",
       "      <td>0.524342</td>\n",
       "      <td>0.172515</td>\n",
       "      <td>-0.172874</td>\n",
       "      <td>-0.101419</td>\n",
       "      <td>-0.162510</td>\n",
       "    </tr>\n",
       "    <tr>\n",
       "      <th>Owner</th>\n",
       "      <td>-0.088344</td>\n",
       "      <td>0.008057</td>\n",
       "      <td>0.089216</td>\n",
       "      <td>1.000000</td>\n",
       "      <td>0.182104</td>\n",
       "      <td>-0.053469</td>\n",
       "      <td>0.055687</td>\n",
       "      <td>0.124269</td>\n",
       "      <td>-0.050316</td>\n",
       "    </tr>\n",
       "    <tr>\n",
       "      <th>no. of year</th>\n",
       "      <td>-0.236141</td>\n",
       "      <td>0.047584</td>\n",
       "      <td>0.524342</td>\n",
       "      <td>0.182104</td>\n",
       "      <td>1.000000</td>\n",
       "      <td>-0.064315</td>\n",
       "      <td>0.059959</td>\n",
       "      <td>0.039896</td>\n",
       "      <td>-0.000394</td>\n",
       "    </tr>\n",
       "    <tr>\n",
       "      <th>Fuel_Type_Diesel</th>\n",
       "      <td>0.552339</td>\n",
       "      <td>0.473306</td>\n",
       "      <td>0.172515</td>\n",
       "      <td>-0.053469</td>\n",
       "      <td>-0.064315</td>\n",
       "      <td>1.000000</td>\n",
       "      <td>-0.979648</td>\n",
       "      <td>-0.350467</td>\n",
       "      <td>-0.098643</td>\n",
       "    </tr>\n",
       "    <tr>\n",
       "      <th>Fuel_Type_Petrol</th>\n",
       "      <td>-0.540571</td>\n",
       "      <td>-0.465244</td>\n",
       "      <td>-0.172874</td>\n",
       "      <td>0.055687</td>\n",
       "      <td>0.059959</td>\n",
       "      <td>-0.979648</td>\n",
       "      <td>1.000000</td>\n",
       "      <td>0.358321</td>\n",
       "      <td>0.091013</td>\n",
       "    </tr>\n",
       "    <tr>\n",
       "      <th>Seller_Type_Individual</th>\n",
       "      <td>-0.550724</td>\n",
       "      <td>-0.512030</td>\n",
       "      <td>-0.101419</td>\n",
       "      <td>0.124269</td>\n",
       "      <td>0.039896</td>\n",
       "      <td>-0.350467</td>\n",
       "      <td>0.358321</td>\n",
       "      <td>1.000000</td>\n",
       "      <td>0.063240</td>\n",
       "    </tr>\n",
       "    <tr>\n",
       "      <th>Transmission_Manual</th>\n",
       "      <td>-0.367128</td>\n",
       "      <td>-0.348715</td>\n",
       "      <td>-0.162510</td>\n",
       "      <td>-0.050316</td>\n",
       "      <td>-0.000394</td>\n",
       "      <td>-0.098643</td>\n",
       "      <td>0.091013</td>\n",
       "      <td>0.063240</td>\n",
       "      <td>1.000000</td>\n",
       "    </tr>\n",
       "  </tbody>\n",
       "</table>\n",
       "</div>"
      ],
      "text/plain": [
       "                        Selling_Price  ...  Transmission_Manual\n",
       "Selling_Price                1.000000  ...            -0.367128\n",
       "Present_Price                0.878983  ...            -0.348715\n",
       "Kms_Driven                   0.029187  ...            -0.162510\n",
       "Owner                       -0.088344  ...            -0.050316\n",
       "no. of year                 -0.236141  ...            -0.000394\n",
       "Fuel_Type_Diesel             0.552339  ...            -0.098643\n",
       "Fuel_Type_Petrol            -0.540571  ...             0.091013\n",
       "Seller_Type_Individual      -0.550724  ...             0.063240\n",
       "Transmission_Manual         -0.367128  ...             1.000000\n",
       "\n",
       "[9 rows x 9 columns]"
      ]
     },
     "execution_count": 43,
     "metadata": {},
     "output_type": "execute_result"
    }
   ],
   "source": [
    "df.corr()"
   ]
  },
  {
   "cell_type": "code",
   "execution_count": 44,
   "metadata": {
    "colab": {
     "base_uri": "https://localhost:8080/",
     "height": 873
    },
    "executionInfo": {
     "elapsed": 34205,
     "status": "ok",
     "timestamp": 1630336447019,
     "user": {
      "displayName": "Sahil Rahman",
      "photoUrl": "https://lh3.googleusercontent.com/a-/AOh14GiJ8lzvw0EAvZyy3OveF6J53a3ecWuQmgHRsF6n6D4=s64",
      "userId": "17212050139887820689"
     },
     "user_tz": -330
    },
    "id": "sDyIvqZmJUYK",
    "outputId": "911ed48f-1791-42e1-aac4-203b10bf6eb7"
   },
   "outputs": [
    {
     "data": {
      "text/plain": [
       "<seaborn.axisgrid.PairGrid at 0x7fe4d2e68fd0>"
      ]
     },
     "execution_count": 44,
     "metadata": {},
     "output_type": "execute_result"
    },
    {
     "data": {
      "image/png": "[encoded data removed]",
      "text/plain": [
       "<Figure size 1620x1620 with 90 Axes>"
      ]
     },
     "metadata": {
      "needs_background": "light"
     },
     "output_type": "display_data"
    }
   ],
   "source": [
    "sns.pairplot(df)"
   ]
  },
  {
   "cell_type": "code",
   "execution_count": 46,
   "metadata": {
    "colab": {
     "base_uri": "https://localhost:8080/",
     "height": 713
    },
    "executionInfo": {
     "elapsed": 1551,
     "status": "ok",
     "timestamp": 1630336501637,
     "user": {
      "displayName": "Sahil Rahman",
      "photoUrl": "https://lh3.googleusercontent.com/a-/AOh14GiJ8lzvw0EAvZyy3OveF6J53a3ecWuQmgHRsF6n6D4=s64",
      "userId": "17212050139887820689"
     },
     "user_tz": -330
    },
    "id": "5hNPwHP5JUek",
    "outputId": "ca7cd456-aa03-4d1b-93eb-2b6da7b96ebd"
   },
   "outputs": [
    {
     "data": {
      "text/plain": [
       "<matplotlib.axes._subplots.AxesSubplot at 0x7fe4d1012fd0>"
      ]
     },
     "execution_count": 46,
     "metadata": {},
     "output_type": "execute_result"
    },
    {
     "data": {
      "image/png": "[encoded data removed]",
      "text/plain": [
       "<Figure size 720x720 with 2 Axes>"
      ]
     },
     "metadata": {
      "needs_background": "light"
     },
     "output_type": "display_data"
    }
   ],
   "source": [
    "plt.figure(figsize=(10,10))\n",
    "sns.heatmap(df.corr(), annot=True, cmap='RdYlGn')"
   ]
  },
  {
   "cell_type": "code",
   "execution_count": 56,
   "metadata": {
    "executionInfo": {
     "elapsed": 388,
     "status": "ok",
     "timestamp": 1630337034720,
     "user": {
      "displayName": "Sahil Rahman",
      "photoUrl": "https://lh3.googleusercontent.com/a-/AOh14GiJ8lzvw0EAvZyy3OveF6J53a3ecWuQmgHRsF6n6D4=s64",
      "userId": "17212050139887820689"
     },
     "user_tz": -330
    },
    "id": "vJ0K1oIyJUp_"
   },
   "outputs": [],
   "source": [
    "# X = np.array(df.drop('Selling_Price'))\n",
    "# X = np.array(df.iloc[:,1:])\n",
    "# y = np.array(df.iloc[:,0])\n",
    "X = df.iloc[:,1:]\n",
    "y = df.iloc[:,0]"
   ]
  },
  {
   "cell_type": "code",
   "execution_count": 57,
   "metadata": {
    "colab": {
     "base_uri": "https://localhost:8080/",
     "height": 478
    },
    "executionInfo": {
     "elapsed": 407,
     "status": "ok",
     "timestamp": 1630337042326,
     "user": {
      "displayName": "Sahil Rahman",
      "photoUrl": "https://lh3.googleusercontent.com/a-/AOh14GiJ8lzvw0EAvZyy3OveF6J53a3ecWuQmgHRsF6n6D4=s64",
      "userId": "17212050139887820689"
     },
     "user_tz": -330
    },
    "id": "-V3ExToNJUt7",
    "outputId": "b0e3c266-8fd2-4c51-ec08-209ebe49286e"
   },
   "outputs": [
    {
     "data": {
      "text/html": [
       "<div>\n",
       "<style scoped>\n",
       "    .dataframe tbody tr th:only-of-type {\n",
       "        vertical-align: middle;\n",
       "    }\n",
       "\n",
       "    .dataframe tbody tr th {\n",
       "        vertical-align: top;\n",
       "    }\n",
       "\n",
       "    .dataframe thead th {\n",
       "        text-align: right;\n",
       "    }\n",
       "</style>\n",
       "<table border=\"1\" class=\"dataframe\">\n",
       "  <thead>\n",
       "    <tr style=\"text-align: right;\">\n",
       "      <th></th>\n",
       "      <th>Present_Price</th>\n",
       "      <th>Kms_Driven</th>\n",
       "      <th>Owner</th>\n",
       "      <th>no. of year</th>\n",
       "      <th>Fuel_Type_Diesel</th>\n",
       "      <th>Fuel_Type_Petrol</th>\n",
       "      <th>Seller_Type_Individual</th>\n",
       "      <th>Transmission_Manual</th>\n",
       "    </tr>\n",
       "  </thead>\n",
       "  <tbody>\n",
       "    <tr>\n",
       "      <th>0</th>\n",
       "      <td>5.59</td>\n",
       "      <td>27000</td>\n",
       "      <td>0</td>\n",
       "      <td>7</td>\n",
       "      <td>0</td>\n",
       "      <td>1</td>\n",
       "      <td>0</td>\n",
       "      <td>1</td>\n",
       "    </tr>\n",
       "    <tr>\n",
       "      <th>1</th>\n",
       "      <td>9.54</td>\n",
       "      <td>43000</td>\n",
       "      <td>0</td>\n",
       "      <td>8</td>\n",
       "      <td>1</td>\n",
       "      <td>0</td>\n",
       "      <td>0</td>\n",
       "      <td>1</td>\n",
       "    </tr>\n",
       "    <tr>\n",
       "      <th>2</th>\n",
       "      <td>9.85</td>\n",
       "      <td>6900</td>\n",
       "      <td>0</td>\n",
       "      <td>4</td>\n",
       "      <td>0</td>\n",
       "      <td>1</td>\n",
       "      <td>0</td>\n",
       "      <td>1</td>\n",
       "    </tr>\n",
       "    <tr>\n",
       "      <th>3</th>\n",
       "      <td>4.15</td>\n",
       "      <td>5200</td>\n",
       "      <td>0</td>\n",
       "      <td>10</td>\n",
       "      <td>0</td>\n",
       "      <td>1</td>\n",
       "      <td>0</td>\n",
       "      <td>1</td>\n",
       "    </tr>\n",
       "    <tr>\n",
       "      <th>4</th>\n",
       "      <td>6.87</td>\n",
       "      <td>42450</td>\n",
       "      <td>0</td>\n",
       "      <td>7</td>\n",
       "      <td>1</td>\n",
       "      <td>0</td>\n",
       "      <td>0</td>\n",
       "      <td>1</td>\n",
       "    </tr>\n",
       "    <tr>\n",
       "      <th>...</th>\n",
       "      <td>...</td>\n",
       "      <td>...</td>\n",
       "      <td>...</td>\n",
       "      <td>...</td>\n",
       "      <td>...</td>\n",
       "      <td>...</td>\n",
       "      <td>...</td>\n",
       "      <td>...</td>\n",
       "    </tr>\n",
       "    <tr>\n",
       "      <th>296</th>\n",
       "      <td>11.60</td>\n",
       "      <td>33988</td>\n",
       "      <td>0</td>\n",
       "      <td>5</td>\n",
       "      <td>1</td>\n",
       "      <td>0</td>\n",
       "      <td>0</td>\n",
       "      <td>1</td>\n",
       "    </tr>\n",
       "    <tr>\n",
       "      <th>297</th>\n",
       "      <td>5.90</td>\n",
       "      <td>60000</td>\n",
       "      <td>0</td>\n",
       "      <td>6</td>\n",
       "      <td>0</td>\n",
       "      <td>1</td>\n",
       "      <td>0</td>\n",
       "      <td>1</td>\n",
       "    </tr>\n",
       "    <tr>\n",
       "      <th>298</th>\n",
       "      <td>11.00</td>\n",
       "      <td>87934</td>\n",
       "      <td>0</td>\n",
       "      <td>12</td>\n",
       "      <td>0</td>\n",
       "      <td>1</td>\n",
       "      <td>0</td>\n",
       "      <td>1</td>\n",
       "    </tr>\n",
       "    <tr>\n",
       "      <th>299</th>\n",
       "      <td>12.50</td>\n",
       "      <td>9000</td>\n",
       "      <td>0</td>\n",
       "      <td>4</td>\n",
       "      <td>1</td>\n",
       "      <td>0</td>\n",
       "      <td>0</td>\n",
       "      <td>1</td>\n",
       "    </tr>\n",
       "    <tr>\n",
       "      <th>300</th>\n",
       "      <td>5.90</td>\n",
       "      <td>5464</td>\n",
       "      <td>0</td>\n",
       "      <td>5</td>\n",
       "      <td>0</td>\n",
       "      <td>1</td>\n",
       "      <td>0</td>\n",
       "      <td>1</td>\n",
       "    </tr>\n",
       "  </tbody>\n",
       "</table>\n",
       "<p>301 rows × 8 columns</p>\n",
       "</div>"
      ],
      "text/plain": [
       "     Present_Price  Kms_Driven  ...  Seller_Type_Individual  Transmission_Manual\n",
       "0             5.59       27000  ...                       0                    1\n",
       "1             9.54       43000  ...                       0                    1\n",
       "2             9.85        6900  ...                       0                    1\n",
       "3             4.15        5200  ...                       0                    1\n",
       "4             6.87       42450  ...                       0                    1\n",
       "..             ...         ...  ...                     ...                  ...\n",
       "296          11.60       33988  ...                       0                    1\n",
       "297           5.90       60000  ...                       0                    1\n",
       "298          11.00       87934  ...                       0                    1\n",
       "299          12.50        9000  ...                       0                    1\n",
       "300           5.90        5464  ...                       0                    1\n",
       "\n",
       "[301 rows x 8 columns]"
      ]
     },
     "execution_count": 57,
     "metadata": {},
     "output_type": "execute_result"
    }
   ],
   "source": [
    "X"
   ]
  },
  {
   "cell_type": "code",
   "execution_count": 51,
   "metadata": {
    "colab": {
     "base_uri": "https://localhost:8080/"
    },
    "executionInfo": {
     "elapsed": 395,
     "status": "ok",
     "timestamp": 1630336750842,
     "user": {
      "displayName": "Sahil Rahman",
      "photoUrl": "https://lh3.googleusercontent.com/a-/AOh14GiJ8lzvw0EAvZyy3OveF6J53a3ecWuQmgHRsF6n6D4=s64",
      "userId": "17212050139887820689"
     },
     "user_tz": -330
    },
    "id": "8ZJLR5qWJUyJ",
    "outputId": "84e26891-6f70-43f4-96db-ffa4905c4850"
   },
   "outputs": [
    {
     "data": {
      "text/plain": [
       "array([ 3.35,  4.75,  7.25,  2.85,  4.6 ,  9.25,  6.75,  6.5 ,  8.75,\n",
       "        7.45,  2.85,  6.85,  7.5 ,  6.1 ,  2.25,  7.75,  7.25,  7.75,\n",
       "        3.25,  2.65,  2.85,  4.9 ,  4.4 ,  2.5 ,  2.9 ,  3.  ,  4.15,\n",
       "        6.  ,  1.95,  7.45,  3.1 ,  2.35,  4.95,  6.  ,  5.5 ,  2.95,\n",
       "        4.65,  0.35,  3.  ,  2.25,  5.85,  2.55,  1.95,  5.5 ,  1.25,\n",
       "        7.5 ,  2.65,  1.05,  5.8 ,  7.75, 14.9 , 23.  , 18.  , 16.  ,\n",
       "        2.75,  3.6 ,  4.5 ,  4.75,  4.1 , 19.99,  6.95,  4.5 , 18.75,\n",
       "       23.5 , 33.  ,  4.75, 19.75,  9.25,  4.35, 14.25,  3.95,  4.5 ,\n",
       "        7.45,  2.65,  4.9 ,  3.95,  5.5 ,  1.5 ,  5.25, 14.5 , 14.73,\n",
       "        4.75, 23.  , 12.5 ,  3.49,  2.5 , 35.  ,  5.9 ,  3.45,  4.75,\n",
       "        3.8 , 11.25,  3.51, 23.  ,  4.  ,  5.85, 20.75, 17.  ,  7.05,\n",
       "        9.65,  1.75,  1.7 ,  1.65,  1.45,  1.35,  1.35,  1.35,  1.25,\n",
       "        1.2 ,  1.2 ,  1.2 ,  1.15,  1.15,  1.15,  1.15,  1.11,  1.1 ,\n",
       "        1.1 ,  1.1 ,  1.05,  1.05,  1.05,  1.05,  1.  ,  0.95,  0.9 ,\n",
       "        0.9 ,  0.75,  0.8 ,  0.78,  0.75,  0.75,  0.75,  0.72,  0.65,\n",
       "        0.65,  0.65,  0.65,  0.6 ,  0.6 ,  0.6 ,  0.6 ,  0.6 ,  0.6 ,\n",
       "        0.6 ,  0.6 ,  0.55,  0.55,  0.52,  0.51,  0.5 ,  0.5 ,  0.5 ,\n",
       "        0.5 ,  0.5 ,  0.48,  0.48,  0.48,  0.48,  0.45,  0.45,  0.45,\n",
       "        0.45,  0.45,  0.45,  0.45,  0.45,  0.42,  0.42,  0.4 ,  0.4 ,\n",
       "        0.4 ,  0.4 ,  0.4 ,  0.38,  0.38,  0.35,  0.35,  0.35,  0.31,\n",
       "        0.3 ,  0.3 ,  0.3 ,  0.27,  0.25,  0.25,  0.25,  0.25,  0.25,\n",
       "        0.2 ,  0.2 ,  0.2 ,  0.2 ,  0.2 ,  0.2 ,  0.18,  0.17,  0.16,\n",
       "        0.15,  0.12,  0.1 ,  3.25,  4.4 ,  2.95,  2.75,  5.25,  5.75,\n",
       "        5.15,  7.9 ,  4.85,  3.1 , 11.75, 11.25,  2.9 ,  5.25,  4.5 ,\n",
       "        2.9 ,  3.15,  6.45,  4.5 ,  3.5 ,  4.5 ,  6.  ,  8.25,  5.11,\n",
       "        2.7 ,  5.25,  2.55,  4.95,  3.1 ,  6.15,  9.25, 11.45,  3.9 ,\n",
       "        5.5 ,  9.1 ,  3.1 , 11.25,  4.8 ,  2.  ,  5.35,  4.75,  4.4 ,\n",
       "        6.25,  5.95,  5.2 ,  3.75,  5.95,  4.  ,  5.25, 12.9 ,  5.  ,\n",
       "        5.4 ,  7.2 ,  5.25,  3.  , 10.25,  8.5 ,  8.4 ,  3.9 ,  9.15,\n",
       "        5.5 ,  4.  ,  6.6 ,  4.  ,  6.5 ,  3.65,  8.35,  4.8 ,  6.7 ,\n",
       "        4.1 ,  3.  ,  7.5 ,  2.25,  5.3 , 10.9 ,  8.65,  9.7 ,  6.  ,\n",
       "        6.25,  5.25,  2.1 ,  8.25,  8.99,  3.5 ,  7.4 ,  5.65,  5.75,\n",
       "        8.4 , 10.11,  4.5 ,  5.4 ,  6.4 ,  3.25,  3.75,  8.55,  9.5 ,\n",
       "        4.  ,  3.35, 11.5 ,  5.3 ])"
      ]
     },
     "execution_count": 51,
     "metadata": {},
     "output_type": "execute_result"
    }
   ],
   "source": [
    "y"
   ]
  },
  {
   "cell_type": "markdown",
   "metadata": {
    "id": "anKyzMFMpRHX"
   },
   "source": [
    "# Feature Selection (Feature Importance)"
   ]
  },
  {
   "cell_type": "code",
   "execution_count": 52,
   "metadata": {
    "executionInfo": {
     "elapsed": 467,
     "status": "ok",
     "timestamp": 1630336865647,
     "user": {
      "displayName": "Sahil Rahman",
      "photoUrl": "https://lh3.googleusercontent.com/a-/AOh14GiJ8lzvw0EAvZyy3OveF6J53a3ecWuQmgHRsF6n6D4=s64",
      "userId": "17212050139887820689"
     },
     "user_tz": -330
    },
    "id": "eaz2PfuCpN9E"
   },
   "outputs": [],
   "source": [
    "from sklearn.ensemble import ExtraTreesRegressor"
   ]
  },
  {
   "cell_type": "code",
   "execution_count": 58,
   "metadata": {
    "executionInfo": {
     "elapsed": 394,
     "status": "ok",
     "timestamp": 1630337048579,
     "user": {
      "displayName": "Sahil Rahman",
      "photoUrl": "https://lh3.googleusercontent.com/a-/AOh14GiJ8lzvw0EAvZyy3OveF6J53a3ecWuQmgHRsF6n6D4=s64",
      "userId": "17212050139887820689"
     },
     "user_tz": -330
    },
    "id": "kpbDfmlepOA3"
   },
   "outputs": [],
   "source": [
    "model = ExtraTreesRegressor()\n",
    "feat_imp = model.fit(X,y)"
   ]
  },
  {
   "cell_type": "code",
   "execution_count": 59,
   "metadata": {
    "colab": {
     "base_uri": "https://localhost:8080/"
    },
    "executionInfo": {
     "elapsed": 383,
     "status": "ok",
     "timestamp": 1630337051083,
     "user": {
      "displayName": "Sahil Rahman",
      "photoUrl": "https://lh3.googleusercontent.com/a-/AOh14GiJ8lzvw0EAvZyy3OveF6J53a3ecWuQmgHRsF6n6D4=s64",
      "userId": "17212050139887820689"
     },
     "user_tz": -330
    },
    "id": "KggsozqEpODc",
    "outputId": "dcc741a9-603d-41cf-a437-6d173dddaacf"
   },
   "outputs": [
    {
     "data": {
      "text/plain": [
       "array([0.37559549, 0.04269043, 0.00042893, 0.07860415, 0.22899992,\n",
       "       0.011506  , 0.13247218, 0.1297029 ])"
      ]
     },
     "execution_count": 59,
     "metadata": {},
     "output_type": "execute_result"
    }
   ],
   "source": [
    "feat_imp.feature_importances_"
   ]
  },
  {
   "cell_type": "code",
   "execution_count": 63,
   "metadata": {
    "colab": {
     "base_uri": "https://localhost:8080/",
     "height": 283
    },
    "executionInfo": {
     "elapsed": 479,
     "status": "ok",
     "timestamp": 1630337271894,
     "user": {
      "displayName": "Sahil Rahman",
      "photoUrl": "https://lh3.googleusercontent.com/a-/AOh14GiJ8lzvw0EAvZyy3OveF6J53a3ecWuQmgHRsF6n6D4=s64",
      "userId": "17212050139887820689"
     },
     "user_tz": -330
    },
    "id": "iaa1iDFapOHR",
    "outputId": "56da1275-8212-4e98-fc8b-760fb8418b6a"
   },
   "outputs": [
    {
     "data": {
      "text/plain": [
       "<matplotlib.axes._subplots.AxesSubplot at 0x7fe4cefe4990>"
      ]
     },
     "execution_count": 63,
     "metadata": {},
     "output_type": "execute_result"
    },
    {
     "data": {
      "image/png": "[encoded data removed]",
      "text/plain": [
       "<Figure size 432x288 with 1 Axes>"
      ]
     },
     "metadata": {
      "needs_background": "light"
     },
     "output_type": "display_data"
    }
   ],
   "source": [
    "imp = pd.Series(feat_imp.feature_importances_, index=X.columns)\n",
    "imp.nlargest(7).plot(kind='barh')"
   ]
  },
  {
   "cell_type": "markdown",
   "metadata": {
    "id": "8-mQyVYarmWZ"
   },
   "source": [
    "# Splitting the data"
   ]
  },
  {
   "cell_type": "code",
   "execution_count": 64,
   "metadata": {
    "executionInfo": {
     "elapsed": 630,
     "status": "ok",
     "timestamp": 1630337454974,
     "user": {
      "displayName": "Sahil Rahman",
      "photoUrl": "https://lh3.googleusercontent.com/a-/AOh14GiJ8lzvw0EAvZyy3OveF6J53a3ecWuQmgHRsF6n6D4=s64",
      "userId": "17212050139887820689"
     },
     "user_tz": -330
    },
    "id": "dKwEjz6bpOJx"
   },
   "outputs": [],
   "source": [
    "X_train, X_test, y_train, y_test = train_test_split(X,y, test_size=0.2,\n",
    "                                                    random_state=0)"
   ]
  },
  {
   "cell_type": "code",
   "execution_count": 66,
   "metadata": {
    "colab": {
     "base_uri": "https://localhost:8080/",
     "height": 478
    },
    "executionInfo": {
     "elapsed": 397,
     "status": "ok",
     "timestamp": 1630337482421,
     "user": {
      "displayName": "Sahil Rahman",
      "photoUrl": "https://lh3.googleusercontent.com/a-/AOh14GiJ8lzvw0EAvZyy3OveF6J53a3ecWuQmgHRsF6n6D4=s64",
      "userId": "17212050139887820689"
     },
     "user_tz": -330
    },
    "id": "SOMvJx3ApOP8",
    "outputId": "10b20873-d783-4062-f098-1d3bf6013138"
   },
   "outputs": [
    {
     "data": {
      "text/html": [
       "<div>\n",
       "<style scoped>\n",
       "    .dataframe tbody tr th:only-of-type {\n",
       "        vertical-align: middle;\n",
       "    }\n",
       "\n",
       "    .dataframe tbody tr th {\n",
       "        vertical-align: top;\n",
       "    }\n",
       "\n",
       "    .dataframe thead th {\n",
       "        text-align: right;\n",
       "    }\n",
       "</style>\n",
       "<table border=\"1\" class=\"dataframe\">\n",
       "  <thead>\n",
       "    <tr style=\"text-align: right;\">\n",
       "      <th></th>\n",
       "      <th>Present_Price</th>\n",
       "      <th>Kms_Driven</th>\n",
       "      <th>Owner</th>\n",
       "      <th>no. of year</th>\n",
       "      <th>Fuel_Type_Diesel</th>\n",
       "      <th>Fuel_Type_Petrol</th>\n",
       "      <th>Seller_Type_Individual</th>\n",
       "      <th>Transmission_Manual</th>\n",
       "    </tr>\n",
       "  </thead>\n",
       "  <tbody>\n",
       "    <tr>\n",
       "      <th>223</th>\n",
       "      <td>9.400</td>\n",
       "      <td>61381</td>\n",
       "      <td>0</td>\n",
       "      <td>6</td>\n",
       "      <td>1</td>\n",
       "      <td>0</td>\n",
       "      <td>0</td>\n",
       "      <td>1</td>\n",
       "    </tr>\n",
       "    <tr>\n",
       "      <th>150</th>\n",
       "      <td>0.826</td>\n",
       "      <td>6000</td>\n",
       "      <td>0</td>\n",
       "      <td>10</td>\n",
       "      <td>0</td>\n",
       "      <td>1</td>\n",
       "      <td>1</td>\n",
       "      <td>1</td>\n",
       "    </tr>\n",
       "    <tr>\n",
       "      <th>226</th>\n",
       "      <td>5.700</td>\n",
       "      <td>24678</td>\n",
       "      <td>0</td>\n",
       "      <td>6</td>\n",
       "      <td>0</td>\n",
       "      <td>1</td>\n",
       "      <td>0</td>\n",
       "      <td>1</td>\n",
       "    </tr>\n",
       "    <tr>\n",
       "      <th>296</th>\n",
       "      <td>11.600</td>\n",
       "      <td>33988</td>\n",
       "      <td>0</td>\n",
       "      <td>5</td>\n",
       "      <td>1</td>\n",
       "      <td>0</td>\n",
       "      <td>0</td>\n",
       "      <td>1</td>\n",
       "    </tr>\n",
       "    <tr>\n",
       "      <th>52</th>\n",
       "      <td>19.770</td>\n",
       "      <td>15000</td>\n",
       "      <td>0</td>\n",
       "      <td>4</td>\n",
       "      <td>1</td>\n",
       "      <td>0</td>\n",
       "      <td>0</td>\n",
       "      <td>0</td>\n",
       "    </tr>\n",
       "    <tr>\n",
       "      <th>...</th>\n",
       "      <td>...</td>\n",
       "      <td>...</td>\n",
       "      <td>...</td>\n",
       "      <td>...</td>\n",
       "      <td>...</td>\n",
       "      <td>...</td>\n",
       "      <td>...</td>\n",
       "      <td>...</td>\n",
       "    </tr>\n",
       "    <tr>\n",
       "      <th>137</th>\n",
       "      <td>0.787</td>\n",
       "      <td>16000</td>\n",
       "      <td>0</td>\n",
       "      <td>8</td>\n",
       "      <td>0</td>\n",
       "      <td>1</td>\n",
       "      <td>1</td>\n",
       "      <td>1</td>\n",
       "    </tr>\n",
       "    <tr>\n",
       "      <th>227</th>\n",
       "      <td>4.430</td>\n",
       "      <td>57000</td>\n",
       "      <td>0</td>\n",
       "      <td>10</td>\n",
       "      <td>0</td>\n",
       "      <td>1</td>\n",
       "      <td>0</td>\n",
       "      <td>1</td>\n",
       "    </tr>\n",
       "    <tr>\n",
       "      <th>26</th>\n",
       "      <td>5.870</td>\n",
       "      <td>55138</td>\n",
       "      <td>0</td>\n",
       "      <td>8</td>\n",
       "      <td>0</td>\n",
       "      <td>1</td>\n",
       "      <td>0</td>\n",
       "      <td>1</td>\n",
       "    </tr>\n",
       "    <tr>\n",
       "      <th>106</th>\n",
       "      <td>3.450</td>\n",
       "      <td>16500</td>\n",
       "      <td>1</td>\n",
       "      <td>7</td>\n",
       "      <td>0</td>\n",
       "      <td>1</td>\n",
       "      <td>1</td>\n",
       "      <td>1</td>\n",
       "    </tr>\n",
       "    <tr>\n",
       "      <th>92</th>\n",
       "      <td>13.700</td>\n",
       "      <td>75000</td>\n",
       "      <td>0</td>\n",
       "      <td>16</td>\n",
       "      <td>0</td>\n",
       "      <td>1</td>\n",
       "      <td>0</td>\n",
       "      <td>1</td>\n",
       "    </tr>\n",
       "  </tbody>\n",
       "</table>\n",
       "<p>61 rows × 8 columns</p>\n",
       "</div>"
      ],
      "text/plain": [
       "     Present_Price  Kms_Driven  ...  Seller_Type_Individual  Transmission_Manual\n",
       "223          9.400       61381  ...                       0                    1\n",
       "150          0.826        6000  ...                       1                    1\n",
       "226          5.700       24678  ...                       0                    1\n",
       "296         11.600       33988  ...                       0                    1\n",
       "52          19.770       15000  ...                       0                    0\n",
       "..             ...         ...  ...                     ...                  ...\n",
       "137          0.787       16000  ...                       1                    1\n",
       "227          4.430       57000  ...                       0                    1\n",
       "26           5.870       55138  ...                       0                    1\n",
       "106          3.450       16500  ...                       1                    1\n",
       "92          13.700       75000  ...                       0                    1\n",
       "\n",
       "[61 rows x 8 columns]"
      ]
     },
     "execution_count": 66,
     "metadata": {},
     "output_type": "execute_result"
    }
   ],
   "source": [
    "X_test"
   ]
  },
  {
   "cell_type": "markdown",
   "metadata": {
    "id": "lCpB_MKqr9pz"
   },
   "source": [
    "# Model Selection"
   ]
  },
  {
   "cell_type": "code",
   "execution_count": 67,
   "metadata": {
    "executionInfo": {
     "elapsed": 392,
     "status": "ok",
     "timestamp": 1630337520916,
     "user": {
      "displayName": "Sahil Rahman",
      "photoUrl": "https://lh3.googleusercontent.com/a-/AOh14GiJ8lzvw0EAvZyy3OveF6J53a3ecWuQmgHRsF6n6D4=s64",
      "userId": "17212050139887820689"
     },
     "user_tz": -330
    },
    "id": "ss46pKO4pOTX"
   },
   "outputs": [],
   "source": [
    "regressor = RandomForestRegressor()"
   ]
  },
  {
   "cell_type": "markdown",
   "metadata": {
    "id": "RKWAlhn0sIK3"
   },
   "source": [
    "# Hyper Parameter Tuning"
   ]
  },
  {
   "cell_type": "code",
   "execution_count": 70,
   "metadata": {
    "executionInfo": {
     "elapsed": 372,
     "status": "ok",
     "timestamp": 1630337978202,
     "user": {
      "displayName": "Sahil Rahman",
      "photoUrl": "https://lh3.googleusercontent.com/a-/AOh14GiJ8lzvw0EAvZyy3OveF6J53a3ecWuQmgHRsF6n6D4=s64",
      "userId": "17212050139887820689"
     },
     "user_tz": -330
    },
    "id": "EgqLIuAgpOW5"
   },
   "outputs": [],
   "source": [
    "n_estimators = [int(i) for i in np.linspace(start=100, stop=1200, num=12)]\n",
    "\n",
    "max_features = ['auto','sqrt']\n",
    "\n",
    "max_depth = [int(i) for i in np.linspace(start=5, stop=30, num=6)]\n",
    "\n",
    "min_samples_split = [2, 5, 10, 15, 100]\n",
    "\n",
    "min_samples_leaf = [1, 2, 5,10]"
   ]
  },
  {
   "cell_type": "code",
   "execution_count": 71,
   "metadata": {
    "colab": {
     "base_uri": "https://localhost:8080/"
    },
    "executionInfo": {
     "elapsed": 387,
     "status": "ok",
     "timestamp": 1630337982460,
     "user": {
      "displayName": "Sahil Rahman",
      "photoUrl": "https://lh3.googleusercontent.com/a-/AOh14GiJ8lzvw0EAvZyy3OveF6J53a3ecWuQmgHRsF6n6D4=s64",
      "userId": "17212050139887820689"
     },
     "user_tz": -330
    },
    "id": "RVVGWkNvpOa0",
    "outputId": "8b718d1d-ddf0-4484-c3a6-701c2b894b7a"
   },
   "outputs": [
    {
     "name": "stdout",
     "output_type": "stream",
     "text": [
      "{'n_estimators': [100, 200, 300, 400, 500, 600, 700, 800, 900, 1000, 1100, 1200], 'max_features': ['auto', 'sqrt'], 'max_depth': [5, 10, 15, 20, 25, 30], 'min_samples_split': [2, 5, 10, 15, 100], 'min_samples_leaf': [1, 2, 5, 10]}\n"
     ]
    }
   ],
   "source": [
    "random_grid = {'n_estimators':n_estimators,\n",
    "               'max_features':max_features,\n",
    "               'max_depth':max_depth,\n",
    "               'min_samples_split':min_samples_split,\n",
    "               'min_samples_leaf':min_samples_leaf}\n",
    "print(random_grid)"
   ]
  },
  {
   "cell_type": "code",
   "execution_count": 72,
   "metadata": {
    "executionInfo": {
     "elapsed": 392,
     "status": "ok",
     "timestamp": 1630338050769,
     "user": {
      "displayName": "Sahil Rahman",
      "photoUrl": "https://lh3.googleusercontent.com/a-/AOh14GiJ8lzvw0EAvZyy3OveF6J53a3ecWuQmgHRsF6n6D4=s64",
      "userId": "17212050139887820689"
     },
     "user_tz": -330
    },
    "id": "AAcBbanKpOdv"
   },
   "outputs": [],
   "source": [
    "from sklearn.model_selection import RandomizedSearchCV"
   ]
  },
  {
   "cell_type": "code",
   "execution_count": 73,
   "metadata": {
    "executionInfo": {
     "elapsed": 376,
     "status": "ok",
     "timestamp": 1630338272822,
     "user": {
      "displayName": "Sahil Rahman",
      "photoUrl": "https://lh3.googleusercontent.com/a-/AOh14GiJ8lzvw0EAvZyy3OveF6J53a3ecWuQmgHRsF6n6D4=s64",
      "userId": "17212050139887820689"
     },
     "user_tz": -330
    },
    "id": "WMtE0CZapOhB"
   },
   "outputs": [],
   "source": [
    "rf_regressor = RandomizedSearchCV(estimator=regressor,\n",
    "                                  param_distributions=random_grid,\n",
    "                                  scoring='neg_mean_squared_error',\n",
    "                                  cv=5,\n",
    "                                  verbose = 2,\n",
    "                                  random_state=42,\n",
    "                                  n_jobs=1)"
   ]
  },
  {
   "cell_type": "markdown",
   "metadata": {
    "id": "mNyu7Amnu-Az"
   },
   "source": [
    "# Training the model"
   ]
  },
  {
   "cell_type": "code",
   "execution_count": 74,
   "metadata": {
    "colab": {
     "base_uri": "https://localhost:8080/"
    },
    "executionInfo": {
     "elapsed": 47797,
     "status": "ok",
     "timestamp": 1630338364579,
     "user": {
      "displayName": "Sahil Rahman",
      "photoUrl": "https://lh3.googleusercontent.com/a-/AOh14GiJ8lzvw0EAvZyy3OveF6J53a3ecWuQmgHRsF6n6D4=s64",
      "userId": "17212050139887820689"
     },
     "user_tz": -330
    },
    "id": "gnS5Lt_MpOkm",
    "outputId": "b98c50a8-19f4-4402-e5eb-f17101d0b15e"
   },
   "outputs": [
    {
     "name": "stdout",
     "output_type": "stream",
     "text": [
      "Fitting 5 folds for each of 10 candidates, totalling 50 fits\n",
      "[CV] n_estimators=900, min_samples_split=5, min_samples_leaf=5, max_features=sqrt, max_depth=10 \n"
     ]
    },
    {
     "name": "stderr",
     "output_type": "stream",
     "text": [
      "[Parallel(n_jobs=1)]: Using backend SequentialBackend with 1 concurrent workers.\n"
     ]
    },
    {
     "name": "stdout",
     "output_type": "stream",
     "text": [
      "[CV]  n_estimators=900, min_samples_split=5, min_samples_leaf=5, max_features=sqrt, max_depth=10, total=   1.1s\n",
      "[CV] n_estimators=900, min_samples_split=5, min_samples_leaf=5, max_features=sqrt, max_depth=10 \n"
     ]
    },
    {
     "name": "stderr",
     "output_type": "stream",
     "text": [
      "[Parallel(n_jobs=1)]: Done   1 out of   1 | elapsed:    1.1s remaining:    0.0s\n"
     ]
    },
    {
     "name": "stdout",
     "output_type": "stream",
     "text": [
      "[CV]  n_estimators=900, min_samples_split=5, min_samples_leaf=5, max_features=sqrt, max_depth=10, total=   1.2s\n",
      "[CV] n_estimators=900, min_samples_split=5, min_samples_leaf=5, max_features=sqrt, max_depth=10 \n",
      "[CV]  n_estimators=900, min_samples_split=5, min_samples_leaf=5, max_features=sqrt, max_depth=10, total=   1.1s\n",
      "[CV] n_estimators=900, min_samples_split=5, min_samples_leaf=5, max_features=sqrt, max_depth=10 \n",
      "[CV]  n_estimators=900, min_samples_split=5, min_samples_leaf=5, max_features=sqrt, max_depth=10, total=   1.1s\n",
      "[CV] n_estimators=900, min_samples_split=5, min_samples_leaf=5, max_features=sqrt, max_depth=10 \n",
      "[CV]  n_estimators=900, min_samples_split=5, min_samples_leaf=5, max_features=sqrt, max_depth=10, total=   1.1s\n",
      "[CV] n_estimators=1100, min_samples_split=10, min_samples_leaf=2, max_features=sqrt, max_depth=15 \n",
      "[CV]  n_estimators=1100, min_samples_split=10, min_samples_leaf=2, max_features=sqrt, max_depth=15, total=   1.4s\n",
      "[CV] n_estimators=1100, min_samples_split=10, min_samples_leaf=2, max_features=sqrt, max_depth=15 \n",
      "[CV]  n_estimators=1100, min_samples_split=10, min_samples_leaf=2, max_features=sqrt, max_depth=15, total=   1.4s\n",
      "[CV] n_estimators=1100, min_samples_split=10, min_samples_leaf=2, max_features=sqrt, max_depth=15 \n",
      "[CV]  n_estimators=1100, min_samples_split=10, min_samples_leaf=2, max_features=sqrt, max_depth=15, total=   1.4s\n",
      "[CV] n_estimators=1100, min_samples_split=10, min_samples_leaf=2, max_features=sqrt, max_depth=15 \n",
      "[CV]  n_estimators=1100, min_samples_split=10, min_samples_leaf=2, max_features=sqrt, max_depth=15, total=   1.4s\n",
      "[CV] n_estimators=1100, min_samples_split=10, min_samples_leaf=2, max_features=sqrt, max_depth=15 \n",
      "[CV]  n_estimators=1100, min_samples_split=10, min_samples_leaf=2, max_features=sqrt, max_depth=15, total=   1.4s\n",
      "[CV] n_estimators=300, min_samples_split=100, min_samples_leaf=5, max_features=auto, max_depth=15 \n",
      "[CV]  n_estimators=300, min_samples_split=100, min_samples_leaf=5, max_features=auto, max_depth=15, total=   0.4s\n",
      "[CV] n_estimators=300, min_samples_split=100, min_samples_leaf=5, max_features=auto, max_depth=15 \n",
      "[CV]  n_estimators=300, min_samples_split=100, min_samples_leaf=5, max_features=auto, max_depth=15, total=   0.4s\n",
      "[CV] n_estimators=300, min_samples_split=100, min_samples_leaf=5, max_features=auto, max_depth=15 \n",
      "[CV]  n_estimators=300, min_samples_split=100, min_samples_leaf=5, max_features=auto, max_depth=15, total=   0.4s\n",
      "[CV] n_estimators=300, min_samples_split=100, min_samples_leaf=5, max_features=auto, max_depth=15 \n",
      "[CV]  n_estimators=300, min_samples_split=100, min_samples_leaf=5, max_features=auto, max_depth=15, total=   0.4s\n",
      "[CV] n_estimators=300, min_samples_split=100, min_samples_leaf=5, max_features=auto, max_depth=15 \n",
      "[CV]  n_estimators=300, min_samples_split=100, min_samples_leaf=5, max_features=auto, max_depth=15, total=   0.4s\n",
      "[CV] n_estimators=400, min_samples_split=5, min_samples_leaf=5, max_features=auto, max_depth=15 \n",
      "[CV]  n_estimators=400, min_samples_split=5, min_samples_leaf=5, max_features=auto, max_depth=15, total=   0.5s\n",
      "[CV] n_estimators=400, min_samples_split=5, min_samples_leaf=5, max_features=auto, max_depth=15 \n",
      "[CV]  n_estimators=400, min_samples_split=5, min_samples_leaf=5, max_features=auto, max_depth=15, total=   0.5s\n",
      "[CV] n_estimators=400, min_samples_split=5, min_samples_leaf=5, max_features=auto, max_depth=15 \n",
      "[CV]  n_estimators=400, min_samples_split=5, min_samples_leaf=5, max_features=auto, max_depth=15, total=   0.6s\n",
      "[CV] n_estimators=400, min_samples_split=5, min_samples_leaf=5, max_features=auto, max_depth=15 \n",
      "[CV]  n_estimators=400, min_samples_split=5, min_samples_leaf=5, max_features=auto, max_depth=15, total=   0.5s\n",
      "[CV] n_estimators=400, min_samples_split=5, min_samples_leaf=5, max_features=auto, max_depth=15 \n",
      "[CV]  n_estimators=400, min_samples_split=5, min_samples_leaf=5, max_features=auto, max_depth=15, total=   0.5s\n",
      "[CV] n_estimators=700, min_samples_split=5, min_samples_leaf=10, max_features=auto, max_depth=20 \n",
      "[CV]  n_estimators=700, min_samples_split=5, min_samples_leaf=10, max_features=auto, max_depth=20, total=   0.9s\n",
      "[CV] n_estimators=700, min_samples_split=5, min_samples_leaf=10, max_features=auto, max_depth=20 \n",
      "[CV]  n_estimators=700, min_samples_split=5, min_samples_leaf=10, max_features=auto, max_depth=20, total=   0.9s\n",
      "[CV] n_estimators=700, min_samples_split=5, min_samples_leaf=10, max_features=auto, max_depth=20 \n",
      "[CV]  n_estimators=700, min_samples_split=5, min_samples_leaf=10, max_features=auto, max_depth=20, total=   0.9s\n",
      "[CV] n_estimators=700, min_samples_split=5, min_samples_leaf=10, max_features=auto, max_depth=20 \n",
      "[CV]  n_estimators=700, min_samples_split=5, min_samples_leaf=10, max_features=auto, max_depth=20, total=   0.9s\n",
      "[CV] n_estimators=700, min_samples_split=5, min_samples_leaf=10, max_features=auto, max_depth=20 \n",
      "[CV]  n_estimators=700, min_samples_split=5, min_samples_leaf=10, max_features=auto, max_depth=20, total=   0.9s\n",
      "[CV] n_estimators=1000, min_samples_split=2, min_samples_leaf=1, max_features=sqrt, max_depth=25 \n",
      "[CV]  n_estimators=1000, min_samples_split=2, min_samples_leaf=1, max_features=sqrt, max_depth=25, total=   1.4s\n",
      "[CV] n_estimators=1000, min_samples_split=2, min_samples_leaf=1, max_features=sqrt, max_depth=25 \n",
      "[CV]  n_estimators=1000, min_samples_split=2, min_samples_leaf=1, max_features=sqrt, max_depth=25, total=   1.3s\n",
      "[CV] n_estimators=1000, min_samples_split=2, min_samples_leaf=1, max_features=sqrt, max_depth=25 \n",
      "[CV]  n_estimators=1000, min_samples_split=2, min_samples_leaf=1, max_features=sqrt, max_depth=25, total=   1.3s\n",
      "[CV] n_estimators=1000, min_samples_split=2, min_samples_leaf=1, max_features=sqrt, max_depth=25 \n",
      "[CV]  n_estimators=1000, min_samples_split=2, min_samples_leaf=1, max_features=sqrt, max_depth=25, total=   1.4s\n",
      "[CV] n_estimators=1000, min_samples_split=2, min_samples_leaf=1, max_features=sqrt, max_depth=25 \n",
      "[CV]  n_estimators=1000, min_samples_split=2, min_samples_leaf=1, max_features=sqrt, max_depth=25, total=   1.4s\n",
      "[CV] n_estimators=1100, min_samples_split=15, min_samples_leaf=10, max_features=sqrt, max_depth=5 \n",
      "[CV]  n_estimators=1100, min_samples_split=15, min_samples_leaf=10, max_features=sqrt, max_depth=5, total=   1.3s\n",
      "[CV] n_estimators=1100, min_samples_split=15, min_samples_leaf=10, max_features=sqrt, max_depth=5 \n",
      "[CV]  n_estimators=1100, min_samples_split=15, min_samples_leaf=10, max_features=sqrt, max_depth=5, total=   1.3s\n",
      "[CV] n_estimators=1100, min_samples_split=15, min_samples_leaf=10, max_features=sqrt, max_depth=5 \n",
      "[CV]  n_estimators=1100, min_samples_split=15, min_samples_leaf=10, max_features=sqrt, max_depth=5, total=   1.3s\n",
      "[CV] n_estimators=1100, min_samples_split=15, min_samples_leaf=10, max_features=sqrt, max_depth=5 \n",
      "[CV]  n_estimators=1100, min_samples_split=15, min_samples_leaf=10, max_features=sqrt, max_depth=5, total=   1.5s\n",
      "[CV] n_estimators=1100, min_samples_split=15, min_samples_leaf=10, max_features=sqrt, max_depth=5 \n",
      "[CV]  n_estimators=1100, min_samples_split=15, min_samples_leaf=10, max_features=sqrt, max_depth=5, total=   1.3s\n",
      "[CV] n_estimators=300, min_samples_split=15, min_samples_leaf=1, max_features=sqrt, max_depth=15 \n",
      "[CV]  n_estimators=300, min_samples_split=15, min_samples_leaf=1, max_features=sqrt, max_depth=15, total=   0.4s\n",
      "[CV] n_estimators=300, min_samples_split=15, min_samples_leaf=1, max_features=sqrt, max_depth=15 \n",
      "[CV]  n_estimators=300, min_samples_split=15, min_samples_leaf=1, max_features=sqrt, max_depth=15, total=   0.4s\n",
      "[CV] n_estimators=300, min_samples_split=15, min_samples_leaf=1, max_features=sqrt, max_depth=15 \n",
      "[CV]  n_estimators=300, min_samples_split=15, min_samples_leaf=1, max_features=sqrt, max_depth=15, total=   0.4s\n",
      "[CV] n_estimators=300, min_samples_split=15, min_samples_leaf=1, max_features=sqrt, max_depth=15 \n",
      "[CV]  n_estimators=300, min_samples_split=15, min_samples_leaf=1, max_features=sqrt, max_depth=15, total=   0.4s\n",
      "[CV] n_estimators=300, min_samples_split=15, min_samples_leaf=1, max_features=sqrt, max_depth=15 \n",
      "[CV]  n_estimators=300, min_samples_split=15, min_samples_leaf=1, max_features=sqrt, max_depth=15, total=   0.4s\n",
      "[CV] n_estimators=700, min_samples_split=10, min_samples_leaf=2, max_features=sqrt, max_depth=5 \n",
      "[CV]  n_estimators=700, min_samples_split=10, min_samples_leaf=2, max_features=sqrt, max_depth=5, total=   0.9s\n",
      "[CV] n_estimators=700, min_samples_split=10, min_samples_leaf=2, max_features=sqrt, max_depth=5 \n",
      "[CV]  n_estimators=700, min_samples_split=10, min_samples_leaf=2, max_features=sqrt, max_depth=5, total=   0.9s\n",
      "[CV] n_estimators=700, min_samples_split=10, min_samples_leaf=2, max_features=sqrt, max_depth=5 \n",
      "[CV]  n_estimators=700, min_samples_split=10, min_samples_leaf=2, max_features=sqrt, max_depth=5, total=   0.9s\n",
      "[CV] n_estimators=700, min_samples_split=10, min_samples_leaf=2, max_features=sqrt, max_depth=5 \n",
      "[CV]  n_estimators=700, min_samples_split=10, min_samples_leaf=2, max_features=sqrt, max_depth=5, total=   0.9s\n",
      "[CV] n_estimators=700, min_samples_split=10, min_samples_leaf=2, max_features=sqrt, max_depth=5 \n",
      "[CV]  n_estimators=700, min_samples_split=10, min_samples_leaf=2, max_features=sqrt, max_depth=5, total=   0.9s\n",
      "[CV] n_estimators=700, min_samples_split=15, min_samples_leaf=1, max_features=auto, max_depth=20 \n",
      "[CV]  n_estimators=700, min_samples_split=15, min_samples_leaf=1, max_features=auto, max_depth=20, total=   0.9s\n",
      "[CV] n_estimators=700, min_samples_split=15, min_samples_leaf=1, max_features=auto, max_depth=20 \n",
      "[CV]  n_estimators=700, min_samples_split=15, min_samples_leaf=1, max_features=auto, max_depth=20, total=   0.9s\n",
      "[CV] n_estimators=700, min_samples_split=15, min_samples_leaf=1, max_features=auto, max_depth=20 \n",
      "[CV]  n_estimators=700, min_samples_split=15, min_samples_leaf=1, max_features=auto, max_depth=20, total=   1.0s\n",
      "[CV] n_estimators=700, min_samples_split=15, min_samples_leaf=1, max_features=auto, max_depth=20 \n",
      "[CV]  n_estimators=700, min_samples_split=15, min_samples_leaf=1, max_features=auto, max_depth=20, total=   0.9s\n",
      "[CV] n_estimators=700, min_samples_split=15, min_samples_leaf=1, max_features=auto, max_depth=20 \n",
      "[CV]  n_estimators=700, min_samples_split=15, min_samples_leaf=1, max_features=auto, max_depth=20, total=   1.0s\n"
     ]
    },
    {
     "name": "stderr",
     "output_type": "stream",
     "text": [
      "[Parallel(n_jobs=1)]: Done  50 out of  50 | elapsed:   46.4s finished\n"
     ]
    },
    {
     "data": {
      "text/plain": [
       "RandomizedSearchCV(cv=5, error_score=nan,\n",
       "                   estimator=RandomForestRegressor(bootstrap=True,\n",
       "                                                   ccp_alpha=0.0,\n",
       "                                                   criterion='mse',\n",
       "                                                   max_depth=None,\n",
       "                                                   max_features='auto',\n",
       "                                                   max_leaf_nodes=None,\n",
       "                                                   max_samples=None,\n",
       "                                                   min_impurity_decrease=0.0,\n",
       "                                                   min_impurity_split=None,\n",
       "                                                   min_samples_leaf=1,\n",
       "                                                   min_samples_split=2,\n",
       "                                                   min_weight_fraction_leaf=0.0,\n",
       "                                                   n_estimators=100,\n",
       "                                                   n_jobs=None, oob_score=Fals...\n",
       "                   iid='deprecated', n_iter=10, n_jobs=1,\n",
       "                   param_distributions={'max_depth': [5, 10, 15, 20, 25, 30],\n",
       "                                        'max_features': ['auto', 'sqrt'],\n",
       "                                        'min_samples_leaf': [1, 2, 5, 10],\n",
       "                                        'min_samples_split': [2, 5, 10, 15,\n",
       "                                                              100],\n",
       "                                        'n_estimators': [100, 200, 300, 400,\n",
       "                                                         500, 600, 700, 800,\n",
       "                                                         900, 1000, 1100,\n",
       "                                                         1200]},\n",
       "                   pre_dispatch='2*n_jobs', random_state=42, refit=True,\n",
       "                   return_train_score=False, scoring='neg_mean_squared_error',\n",
       "                   verbose=2)"
      ]
     },
     "execution_count": 74,
     "metadata": {},
     "output_type": "execute_result"
    }
   ],
   "source": [
    "rf_regressor.fit(X_train, y_train)"
   ]
  },
  {
   "cell_type": "code",
   "execution_count": 75,
   "metadata": {
    "colab": {
     "base_uri": "https://localhost:8080/"
    },
    "executionInfo": {
     "elapsed": 384,
     "status": "ok",
     "timestamp": 1630338392912,
     "user": {
      "displayName": "Sahil Rahman",
      "photoUrl": "https://lh3.googleusercontent.com/a-/AOh14GiJ8lzvw0EAvZyy3OveF6J53a3ecWuQmgHRsF6n6D4=s64",
      "userId": "17212050139887820689"
     },
     "user_tz": -330
    },
    "id": "le_cqa8qpOoF",
    "outputId": "6ade8f6e-e544-496c-91f5-0439cd23abe9"
   },
   "outputs": [
    {
     "data": {
      "text/plain": [
       "{'max_depth': 20,\n",
       " 'max_features': 'auto',\n",
       " 'min_samples_leaf': 1,\n",
       " 'min_samples_split': 15,\n",
       " 'n_estimators': 700}"
      ]
     },
     "execution_count": 75,
     "metadata": {},
     "output_type": "execute_result"
    }
   ],
   "source": [
    "rf_regressor.best_params_"
   ]
  },
  {
   "cell_type": "markdown",
   "metadata": {
    "id": "ROCoB_F2vn-B"
   },
   "source": [
    "# Testing the model"
   ]
  },
  {
   "cell_type": "code",
   "execution_count": 76,
   "metadata": {
    "executionInfo": {
     "elapsed": 374,
     "status": "ok",
     "timestamp": 1630338467638,
     "user": {
      "displayName": "Sahil Rahman",
      "photoUrl": "https://lh3.googleusercontent.com/a-/AOh14GiJ8lzvw0EAvZyy3OveF6J53a3ecWuQmgHRsF6n6D4=s64",
      "userId": "17212050139887820689"
     },
     "user_tz": -330
    },
    "id": "_yzXHFKvpOr3"
   },
   "outputs": [],
   "source": [
    "y_pred = rf_regressor.predict(X_test)"
   ]
  },
  {
   "cell_type": "code",
   "execution_count": 77,
   "metadata": {
    "colab": {
     "base_uri": "https://localhost:8080/",
     "height": 283
    },
    "executionInfo": {
     "elapsed": 444,
     "status": "ok",
     "timestamp": 1630338485520,
     "user": {
      "displayName": "Sahil Rahman",
      "photoUrl": "https://lh3.googleusercontent.com/a-/AOh14GiJ8lzvw0EAvZyy3OveF6J53a3ecWuQmgHRsF6n6D4=s64",
      "userId": "17212050139887820689"
     },
     "user_tz": -330
    },
    "id": "roBkUoN6pOux",
    "outputId": "aaa9f72e-4a95-4081-8b2c-d08f56e35fd5"
   },
   "outputs": [
    {
     "data": {
      "text/plain": [
       "<matplotlib.collections.PathCollection at 0x7fe4cf311090>"
      ]
     },
     "execution_count": 77,
     "metadata": {},
     "output_type": "execute_result"
    },
    {
     "data": {
      "image/png": "[encoded data removed]",
      "text/plain": [
       "<Figure size 432x288 with 1 Axes>"
      ]
     },
     "metadata": {
      "needs_background": "light"
     },
     "output_type": "display_data"
    }
   ],
   "source": [
    "plt.scatter(y_test, y_pred)"
   ]
  },
  {
   "cell_type": "code",
   "execution_count": 78,
   "metadata": {
    "executionInfo": {
     "elapsed": 384,
     "status": "ok",
     "timestamp": 1630338534910,
     "user": {
      "displayName": "Sahil Rahman",
      "photoUrl": "https://lh3.googleusercontent.com/a-/AOh14GiJ8lzvw0EAvZyy3OveF6J53a3ecWuQmgHRsF6n6D4=s64",
      "userId": "17212050139887820689"
     },
     "user_tz": -330
    },
    "id": "McjuheXbpOx_"
   },
   "outputs": [],
   "source": [
    "finaldf = pd.DataFrame({\"Actual\":y_test, \"Predicted\":y_pred})"
   ]
  },
  {
   "cell_type": "code",
   "execution_count": 79,
   "metadata": {
    "colab": {
     "base_uri": "https://localhost:8080/",
     "height": 423
    },
    "executionInfo": {
     "elapsed": 431,
     "status": "ok",
     "timestamp": 1630338539897,
     "user": {
      "displayName": "Sahil Rahman",
      "photoUrl": "https://lh3.googleusercontent.com/a-/AOh14GiJ8lzvw0EAvZyy3OveF6J53a3ecWuQmgHRsF6n6D4=s64",
      "userId": "17212050139887820689"
     },
     "user_tz": -330
    },
    "id": "lrQ2dilppO1s",
    "outputId": "0ca67609-ce39-4e02-d7f0-942acb0550fa"
   },
   "outputs": [
    {
     "data": {
      "text/html": [
       "<div>\n",
       "<style scoped>\n",
       "    .dataframe tbody tr th:only-of-type {\n",
       "        vertical-align: middle;\n",
       "    }\n",
       "\n",
       "    .dataframe tbody tr th {\n",
       "        vertical-align: top;\n",
       "    }\n",
       "\n",
       "    .dataframe thead th {\n",
       "        text-align: right;\n",
       "    }\n",
       "</style>\n",
       "<table border=\"1\" class=\"dataframe\">\n",
       "  <thead>\n",
       "    <tr style=\"text-align: right;\">\n",
       "      <th></th>\n",
       "      <th>Actual</th>\n",
       "      <th>Predicted</th>\n",
       "    </tr>\n",
       "  </thead>\n",
       "  <tbody>\n",
       "    <tr>\n",
       "      <th>223</th>\n",
       "      <td>8.25</td>\n",
       "      <td>6.969402</td>\n",
       "    </tr>\n",
       "    <tr>\n",
       "      <th>150</th>\n",
       "      <td>0.50</td>\n",
       "      <td>0.514604</td>\n",
       "    </tr>\n",
       "    <tr>\n",
       "      <th>226</th>\n",
       "      <td>5.25</td>\n",
       "      <td>4.949078</td>\n",
       "    </tr>\n",
       "    <tr>\n",
       "      <th>296</th>\n",
       "      <td>9.50</td>\n",
       "      <td>8.317201</td>\n",
       "    </tr>\n",
       "    <tr>\n",
       "      <th>52</th>\n",
       "      <td>18.00</td>\n",
       "      <td>12.373524</td>\n",
       "    </tr>\n",
       "    <tr>\n",
       "      <th>...</th>\n",
       "      <td>...</td>\n",
       "      <td>...</td>\n",
       "    </tr>\n",
       "    <tr>\n",
       "      <th>137</th>\n",
       "      <td>0.65</td>\n",
       "      <td>0.407014</td>\n",
       "    </tr>\n",
       "    <tr>\n",
       "      <th>227</th>\n",
       "      <td>2.55</td>\n",
       "      <td>2.758696</td>\n",
       "    </tr>\n",
       "    <tr>\n",
       "      <th>26</th>\n",
       "      <td>4.15</td>\n",
       "      <td>3.631988</td>\n",
       "    </tr>\n",
       "    <tr>\n",
       "      <th>106</th>\n",
       "      <td>1.35</td>\n",
       "      <td>2.505291</td>\n",
       "    </tr>\n",
       "    <tr>\n",
       "      <th>92</th>\n",
       "      <td>3.51</td>\n",
       "      <td>4.707823</td>\n",
       "    </tr>\n",
       "  </tbody>\n",
       "</table>\n",
       "<p>61 rows × 2 columns</p>\n",
       "</div>"
      ],
      "text/plain": [
       "     Actual  Predicted\n",
       "223    8.25   6.969402\n",
       "150    0.50   0.514604\n",
       "226    5.25   4.949078\n",
       "296    9.50   8.317201\n",
       "52    18.00  12.373524\n",
       "..      ...        ...\n",
       "137    0.65   0.407014\n",
       "227    2.55   2.758696\n",
       "26     4.15   3.631988\n",
       "106    1.35   2.505291\n",
       "92     3.51   4.707823\n",
       "\n",
       "[61 rows x 2 columns]"
      ]
     },
     "execution_count": 79,
     "metadata": {},
     "output_type": "execute_result"
    }
   ],
   "source": [
    "finaldf"
   ]
  },
  {
   "cell_type": "code",
   "execution_count": 80,
   "metadata": {
    "colab": {
     "base_uri": "https://localhost:8080/",
     "height": 287
    },
    "executionInfo": {
     "elapsed": 7,
     "status": "ok",
     "timestamp": 1630338577061,
     "user": {
      "displayName": "Sahil Rahman",
      "photoUrl": "https://lh3.googleusercontent.com/a-/AOh14GiJ8lzvw0EAvZyy3OveF6J53a3ecWuQmgHRsF6n6D4=s64",
      "userId": "17212050139887820689"
     },
     "user_tz": -330
    },
    "id": "aqK5m9yypO4J",
    "outputId": "42cf9033-5b19-4a76-b573-305cfe14df53"
   },
   "outputs": [
    {
     "data": {
      "text/plain": [
       "<matplotlib.axes._subplots.AxesSubplot at 0x7fe4cf191d90>"
      ]
     },
     "execution_count": 80,
     "metadata": {},
     "output_type": "execute_result"
    },
    {
     "data": {
      "image/png": "[encoded data removed]",
      "text/plain": [
       "<Figure size 432x288 with 2 Axes>"
      ]
     },
     "metadata": {
      "needs_background": "light"
     },
     "output_type": "display_data"
    }
   ],
   "source": [
    "sns.heatmap(finaldf.corr(), annot=True, cmap='Greens')"
   ]
  },
  {
   "cell_type": "markdown",
   "metadata": {
    "id": "HkjQ6scywNFZ"
   },
   "source": [
    "# Performance/Accuracy"
   ]
  },
  {
   "cell_type": "code",
   "execution_count": 81,
   "metadata": {
    "colab": {
     "base_uri": "https://localhost:8080/"
    },
    "executionInfo": {
     "elapsed": 390,
     "status": "ok",
     "timestamp": 1630338628094,
     "user": {
      "displayName": "Sahil Rahman",
      "photoUrl": "https://lh3.googleusercontent.com/a-/AOh14GiJ8lzvw0EAvZyy3OveF6J53a3ecWuQmgHRsF6n6D4=s64",
      "userId": "17212050139887820689"
     },
     "user_tz": -330
    },
    "id": "HlukQ4_-pO9r",
    "outputId": "ef25506e-b87d-4e1f-8207-c1ebe077587d"
   },
   "outputs": [
    {
     "data": {
      "text/plain": [
       "0.9237276552854906"
      ]
     },
     "execution_count": 81,
     "metadata": {},
     "output_type": "execute_result"
    }
   ],
   "source": [
    "r2_score(y_test, y_pred)"
   ]
  },
  {
   "cell_type": "markdown",
   "metadata": {},
   "source": [
    "# Therefore, by using Random Forest Regresser got r2_score as 92% which is very better than Decision Tress Regressor."
   ]
  }
 ],
 "metadata": {
  "colab": {
   "authorship_tag": "ABX9TyNyww0Td3jXK2pAx8SES0IQ",
   "collapsed_sections": [],
   "name": "Decision Tree Project - Price Prediction of Used Cars.ipynb",
   "provenance": []
  },
  "kernelspec": {
   "display_name": "Python 3 (ipykernel)",
   "language": "python",
   "name": "python3"
  },
  "language_info": {
   "codemirror_mode": {
    "name": "ipython",
    "version": 3
   },
   "file_extension": ".py",
   "mimetype": "text/x-python",
   "name": "python",
   "nbconvert_exporter": "python",
   "pygments_lexer": "ipython3",
   "version": "3.11.5"
  }
 },
 "nbformat": 4,
 "nbformat_minor": 1
}
